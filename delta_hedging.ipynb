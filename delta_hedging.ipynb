{
  "nbformat": 4,
  "nbformat_minor": 0,
  "metadata": {
    "colab": {
      "provenance": [],
      "authorship_tag": "ABX9TyP9KH+k65IZx1GUFcA+LDjK",
      "include_colab_link": true
    },
    "kernelspec": {
      "name": "python3",
      "display_name": "Python 3"
    },
    "language_info": {
      "name": "python"
    }
  },
  "cells": [
    {
      "cell_type": "markdown",
      "metadata": {
        "id": "view-in-github",
        "colab_type": "text"
      },
      "source": [
        "<a href=\"https://colab.research.google.com/github/RazerRaymond/Pricing-Simulations/blob/main/delta_hedging.ipynb\" target=\"_parent\"><img src=\"https://colab.research.google.com/assets/colab-badge.svg\" alt=\"Open In Colab\"/></a>"
      ]
    },
    {
      "cell_type": "code",
      "source": [
        "import numpy as np\n",
        "from scipy.stats import norm\n",
        "def BMS_d1(S, K, r, q, sigma, tau):\n",
        "    ''' Computes d1 for the Black Merton Scholes formula '''\n",
        "    d1 = 1.0*(np.log(1.0 * S/K) + (r - q + sigma**2/2) * tau) / (sigma * \n",
        "np.sqrt(tau))\n",
        "    return d1\n",
        "def BMS_d2(S, K, r, q, sigma, tau):\n",
        "    ''' Computes d2 for the Black Merton Scholes formula '''\n",
        "    d2 = 1.0*(np.log(1.0 * S/K) + (r - q - sigma**2/2) * tau) / (sigma * \n",
        "np.sqrt(tau))\n",
        "    return d2\n",
        "def BMS_price(type_option, S, K, r, q, sigma, T, t=0):\n",
        "    ''' Computes the Black Merton Scholes price for a 'call' or 'put' option '''\n",
        "    tau = T - t\n",
        "    d1 = BMS_d1(S, K, r, q, sigma, tau)\n",
        "    d2 = BMS_d2(S, K, r, q, sigma, tau)\n",
        "    if type_option == 'call':\n",
        "        price = S * np.exp(-q * tau) * norm.cdf(d1) - K * np.exp(-r * tau) * norm.cdf(d2)\n",
        "    elif type_option == 'put':\n",
        "        price = K * np.exp(-r * tau) * norm.cdf(-d2) - S * np.exp(-q * tau) * norm.cdf(-d1) \n",
        "    return price\n",
        "def BMS_delta(type_option, S, K, r, q, sigma, T, t=0):\n",
        "    ''' Computes the delta for a call or a put. '''\n",
        "    tau = T - t\n",
        "    d1 = BMS_d1(S, K, r, q, sigma, tau)\n",
        "    if type_option == 'call':\n",
        "        delta = np.exp(-q * tau) * norm.cdf(d1)\n",
        "    elif type_option == 'put':\n",
        "        delta = np.exp(-q * tau) * (norm.cdf(d1) - 1)\n",
        "    return delta"
      ],
      "metadata": {
        "id": "DvQi4YHNsbmS"
      },
      "execution_count": null,
      "outputs": []
    },
    {
      "cell_type": "markdown",
      "source": [
        "Cost of delta hedging in Black-Merton-Scholes (BMS) Model (Call)"
      ],
      "metadata": {
        "id": "GkWSa59asFgz"
      }
    },
    {
      "cell_type": "code",
      "execution_count": null,
      "metadata": {
        "id": "sX7pens3sDny"
      },
      "outputs": [],
      "source": [
        "import numpy as np\n",
        "import matplotlib.pyplot as plt\n",
        "from time import time\n",
        "\n",
        "# problem data\n",
        "spot = 100\n",
        "K = 110\n",
        "r = 0.05\n",
        "q = 0.02\n",
        "sig = 0.22\n",
        "\n",
        "maturity = 1\n",
        "\n",
        "m = 365\n",
        "dt = maturity/m\n",
        "\n",
        "# ir and divr\n",
        "r_d = r / m\n",
        "q_d = q / m\n"
      ]
    },
    {
      "cell_type": "code",
      "source": [
        "# Compute the true value of the call\n",
        "C = BMS_price('call', spot, K, r, q, sig, maturity)\n",
        "print('C = ' + str(C))"
      ],
      "metadata": {
        "colab": {
          "base_uri": "https://localhost:8080/"
        },
        "id": "WFJ_PL0dsusz",
        "outputId": "9aa43d0e-83b6-40f6-e954-c64ab823f404"
      },
      "execution_count": null,
      "outputs": [
        {
          "output_type": "stream",
          "name": "stdout",
          "text": [
            "C = 5.954162330654235\n"
          ]
        }
      ]
    },
    {
      "cell_type": "code",
      "source": [
        "n_sim = 100\n",
        "np.random.seed(4123456)\n",
        "synthetic_C = np.zeros(n_sim)\n",
        "\n",
        "st = time()\n",
        "\n",
        "\n",
        "for j in range(n_sim):\n",
        "    # reset for each path\n",
        "    S = spot\n",
        "    T = maturity\n",
        "    delta_C_prev = 0.0\n",
        "    cash_prev = C\n",
        "    interest = 0\n",
        "    for i in range(m):\n",
        "        interest += cash_prev * r_d\n",
        "        delta_C = BMS_delta('call', S, K, r, q, sig, T)\n",
        "        share_purchased = delta_C - (delta_C_prev *(1 + q_d))\n",
        "        cash = cash_prev -  share_purchased * S\n",
        "        synthetic_C[j] += (share_purchased)*S\n",
        "        # Note - net position is always delta_c\n",
        "\n",
        "        # Adjust for ir\n",
        "\n",
        "        cash_prev = cash\n",
        "        delta_C_prev = delta_C\n",
        "        \n",
        "        # Calculate GBM\n",
        "        z = np.random.randn()\n",
        "        S = S * np.exp((r - q - sig*sig/2)*dt + sig*np.sqrt(dt)*z)\n",
        "        T = T - dt\n",
        "\n",
        "    interest -= C * r_d\n",
        "    synthetic_C[j] += (-delta_C*S + np.maximum(S-K,0) - interest)\n",
        "\n",
        "et = time()\n",
        "print('Elapsed time is %s seconds.' % str(et - st))"
      ],
      "metadata": {
        "id": "i_3NxCPFsuws",
        "colab": {
          "base_uri": "https://localhost:8080/"
        },
        "outputId": "26fd460d-22cd-4b48-f59e-02a5a548a422"
      },
      "execution_count": null,
      "outputs": [
        {
          "output_type": "stream",
          "name": "stdout",
          "text": [
            "Elapsed time is 4.392863988876343 seconds.\n"
          ]
        }
      ]
    },
    {
      "cell_type": "code",
      "source": [
        "plt.plot(synthetic_C)\n",
        "plt.show()"
      ],
      "metadata": {
        "id": "TphyvVLNtgnC",
        "colab": {
          "base_uri": "https://localhost:8080/",
          "height": 265
        },
        "outputId": "9722242d-ed3f-4738-a6d4-945e477d4c11"
      },
      "execution_count": null,
      "outputs": [
        {
          "output_type": "display_data",
          "data": {
            "text/plain": [
              "<Figure size 432x288 with 1 Axes>"
            ],
            "image/png": "[encoded data removed]"
          },
          "metadata": {
            "needs_background": "light"
          }
        }
      ]
    },
    {
      "cell_type": "code",
      "source": [
        "print('C = ' + str(C))\n",
        "print('mean_synthetic_C = ' + str(np.mean(synthetic_C)))\n",
        "print('std_synthetic_C = ' + str(np.std(synthetic_C, ddof=1)))"
      ],
      "metadata": {
        "id": "wfcqOYtOthqS",
        "colab": {
          "base_uri": "https://localhost:8080/"
        },
        "outputId": "11ce3c59-ab30-4c49-9886-1c8a6dde5776"
      },
      "execution_count": null,
      "outputs": [
        {
          "output_type": "stream",
          "name": "stdout",
          "text": [
            "C = 5.954162330654235\n",
            "mean_synthetic_C = 5.893645369728744\n",
            "std_synthetic_C = 0.414430271090255\n"
          ]
        }
      ]
    },
    {
      "cell_type": "markdown",
      "source": [
        "Cost of delta hedging in BMS Model (Put)"
      ],
      "metadata": {
        "id": "aa8SBxULBZQg"
      }
    },
    {
      "cell_type": "code",
      "source": [
        "# Compute the true value of the put\n",
        "P = BMS_price('put', spot, K, r, q, sig, maturity)\n",
        "print('P = ' + str(P))"
      ],
      "metadata": {
        "colab": {
          "base_uri": "https://localhost:8080/"
        },
        "id": "ZBO5b6ilBaBX",
        "outputId": "663c629f-8e4f-450f-daae-e5c284b965bc"
      },
      "execution_count": null,
      "outputs": [
        {
          "output_type": "stream",
          "name": "stdout",
          "text": [
            "P = 12.569531695057258\n"
          ]
        }
      ]
    },
    {
      "cell_type": "code",
      "source": [
        "n_sim = 100\n",
        "np.random.seed(4123456)\n",
        "synthetic_P = np.zeros(n_sim)\n",
        "\n",
        "st = time()\n",
        "\n",
        "for j in range(n_sim):\n",
        "    # reset for each path\n",
        "    S = spot\n",
        "    T = maturity\n",
        "    delta_P_prev = 0.0\n",
        "    cash_prev = P\n",
        "    interest = 0\n",
        "    for i in range(m):\n",
        "        interest += cash_prev * r_d\n",
        "        delta_P = BMS_delta('put', S, K, r, q, sig, T)\n",
        "        share_purchased = delta_P - (delta_P_prev *(1 + q_d))\n",
        "        cash = cash_prev -  share_purchased * S\n",
        "        synthetic_P[j] += (share_purchased)*S\n",
        "        # Note - net position is always delta_c\n",
        "\n",
        "        # Adjust for ir\n",
        "\n",
        "        cash_prev = cash\n",
        "        delta_P_prev = delta_P\n",
        "        \n",
        "        # Calculate GBM\n",
        "        z = np.random.randn()\n",
        "        S = S * np.exp((r - q - sig*sig/2)*dt + sig*np.sqrt(dt)*z)\n",
        "        T = T - dt\n",
        "\n",
        "    interest -= P * r_d\n",
        "    synthetic_P[j] += (-delta_P*S + np.maximum(S-K,0) + interest)\n",
        "\n",
        "et = time()\n",
        "print('Elapsed time is %s seconds.' % str(et - st))"
      ],
      "metadata": {
        "colab": {
          "base_uri": "https://localhost:8080/"
        },
        "id": "1XZ5uVpABhK6",
        "outputId": "4650f191-c267-488c-9dd6-e004a228276a"
      },
      "execution_count": null,
      "outputs": [
        {
          "output_type": "stream",
          "name": "stdout",
          "text": [
            "Elapsed time is 5.171753406524658 seconds.\n"
          ]
        }
      ]
    },
    {
      "cell_type": "code",
      "source": [
        "plt.plot(synthetic_P)\n",
        "plt.show()"
      ],
      "metadata": {
        "colab": {
          "base_uri": "https://localhost:8080/",
          "height": 265
        },
        "id": "nkrijLdOC_o5",
        "outputId": "60a2925c-bf52-4b51-a45f-c9a9f57ddeec"
      },
      "execution_count": null,
      "outputs": [
        {
          "output_type": "display_data",
          "data": {
            "text/plain": [
              "<Figure size 432x288 with 1 Axes>"
            ],
            "image/png": "[encoded data removed]"
          },
          "metadata": {
            "needs_background": "light"
          }
        }
      ]
    },
    {
      "cell_type": "code",
      "source": [
        "print('P = ' + str(P))\n",
        "print('mean_synthetic_P = ' + str(np.mean(synthetic_P)))\n",
        "print('std_synthetic_P = ' + str(np.std(synthetic_P, ddof=1)))"
      ],
      "metadata": {
        "colab": {
          "base_uri": "https://localhost:8080/"
        },
        "id": "2CdR69_MDMYl",
        "outputId": "b05c8a38-0217-4455-f1e5-16ece442cc13"
      },
      "execution_count": null,
      "outputs": [
        {
          "output_type": "stream",
          "name": "stdout",
          "text": [
            "P = 12.569531695057258\n",
            "mean_synthetic_P = 13.203753767309115\n",
            "std_synthetic_P = 20.28471780559202\n"
          ]
        }
      ]
    }
  ]
}