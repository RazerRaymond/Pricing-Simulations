{
  "nbformat": 4,
  "nbformat_minor": 0,
  "metadata": {
    "colab": {
      "provenance": [],
      "collapsed_sections": [
        "tNOEaj1OLUcM",
        "Nq3EEE6YLshQ",
        "tmi6h5eNKV2f",
        "1r3SL38pKWgT",
        "JK7XUTryLZjj",
        "DpwcPPjBKmHt",
        "1CtGF9l4KzlO",
        "NYMcUtkJK0Qu",
        "IYAoxOXdLxyD",
        "pRjYHQCrL2IN",
        "8XfzELMIL75R",
        "8w2HSeCtL8et"
      ],
      "authorship_tag": "ABX9TyPwQJNeIZm7znvC6//cOpvm",
      "include_colab_link": true
    },
    "kernelspec": {
      "name": "python3",
      "display_name": "Python 3"
    },
    "language_info": {
      "name": "python"
    }
  },
  "cells": [
    {
      "cell_type": "markdown",
      "metadata": {
        "id": "view-in-github",
        "colab_type": "text"
      },
      "source": [
        "<a href=\"https://colab.research.google.com/github/RazerRaymond/Pricing-Simulations/blob/main/stratified_sampling.ipynb\" target=\"_parent\"><img src=\"https://colab.research.google.com/assets/colab-badge.svg\" alt=\"Open In Colab\"/></a>"
      ]
    },
    {
      "cell_type": "code",
      "execution_count": null,
      "metadata": {
        "id": "frMoRppGuGze"
      },
      "outputs": [],
      "source": [
        "import numpy as np\n",
        "import matplotlib.pyplot as plt\n",
        "from scipy.stats import norm\n",
        "import math\n",
        "import scipy.stats as st\n",
        "import scipy as sp\n",
        "from time import time"
      ]
    },
    {
      "cell_type": "code",
      "source": [
        "def BMS_d1(S, K, r, q, sigma, tau):\n",
        "    ''' Computes d1 for the Black Merton Scholes formula '''\n",
        "    d1 = 1.0*(np.log(1.0 * S/K) + (r - q + sigma**2/2) * tau) / (sigma * \n",
        "np.sqrt(tau))\n",
        "    return d1\n",
        "def BMS_d2(S, K, r, q, sigma, tau):\n",
        "    ''' Computes d2 for the Black Merton Scholes formula '''\n",
        "    d2 = 1.0*(np.log(1.0 * S/K) + (r - q - sigma**2/2) * tau) / (sigma * \n",
        "np.sqrt(tau))\n",
        "    return d2\n",
        "def BMS_price(type_option, S, K, r, q, sigma, T, t=0):\n",
        "    ''' Computes the Black Merton Scholes price for a 'call' or 'put' option '''\n",
        "    tau = T - t\n",
        "    d1 = BMS_d1(S, K, r, q, sigma, tau)\n",
        "    d2 = BMS_d2(S, K, r, q, sigma, tau)\n",
        "    if type_option == 'call':\n",
        "        price = S * np.exp(-q * tau) * norm.cdf(d1) - K * np.exp(-r * tau) * norm.cdf(d2)\n",
        "    elif type_option == 'put':\n",
        "        price = K * np.exp(-r * tau) * norm.cdf(-d2) - S * np.exp(-q * tau) * norm.cdf(-d1) \n",
        "    return price"
      ],
      "metadata": {
        "id": "Y1sVaTGWuauU"
      },
      "execution_count": null,
      "outputs": []
    },
    {
      "cell_type": "code",
      "source": [
        "# Data for Stock\n",
        "s0 = 1260\n",
        "K = 1100\n",
        "sig = 0.35\n",
        "T = 0.25\n",
        "r = 0.0025\n",
        "q = 0.01\n",
        "put = BMS_price('put', s0, K, r, q, sig, T)"
      ],
      "metadata": {
        "id": "cG6ygChaubec"
      },
      "execution_count": null,
      "outputs": []
    },
    {
      "cell_type": "code",
      "source": [
        "# Use Array to store each stratum statistics\n",
        "stra_a_p = []\n",
        "stra_b_p = []\n",
        "stra_c_p = []\n",
        "stra_d_p = []\n",
        "stra_a_e = []\n",
        "stra_b_e = []\n",
        "stra_c_e = []\n",
        "stra_d_e = []"
      ],
      "metadata": {
        "id": "_7UJF3tJMomi"
      },
      "execution_count": null,
      "outputs": []
    },
    {
      "cell_type": "markdown",
      "source": [
        "## Stratum (a)"
      ],
      "metadata": {
        "id": "0NSzgymRLRMv"
      }
    },
    {
      "cell_type": "markdown",
      "source": [
        "### n = 20000, Stratum (a)"
      ],
      "metadata": {
        "id": "U8cIFOqEILSS"
      }
    },
    {
      "cell_type": "code",
      "source": [
        "np.random.seed(147985234)\n",
        "n_sims = 20000"
      ],
      "metadata": {
        "id": "8lkni1Asu0PL"
      },
      "execution_count": null,
      "outputs": []
    },
    {
      "cell_type": "code",
      "source": [
        "delta = np.array([-np.inf, -6, 0, 3, np.inf])\n",
        "cdf_delta = sp.stats.norm.cdf(delta)\n",
        "p = np.diff(cdf_delta)\n",
        "m = len(p)"
      ],
      "metadata": {
        "id": "xioCwRD5H77T"
      },
      "execution_count": null,
      "outputs": []
    },
    {
      "cell_type": "code",
      "source": [
        "# pilot program to find ni optimal\n",
        "sig_i = np.zeros(m)\n",
        "for i in range(m):\n",
        "    n_pilot = 500\n",
        "    u = cdf_delta[i] + (cdf_delta[i + 1] - cdf_delta[i]) * np.random.rand(n_pilot)\n",
        "    z = sp.stats.norm.ppf(u)\n",
        "    s1 = s0 * np.exp((r - q - sig*sig/2)*T + sig*np.sqrt(T)*z)\n",
        "    payoff = np.exp(-r*T)*np.maximum(K - s1, 0)\n",
        "    sig_i[i] = np.std(payoff, ddof=1)\n",
        "    \n",
        "# num of samples is proportional to p * sigma\n",
        "tmp = sig_i * p\n",
        "ni_opt = np.ceil(n_sims * tmp / np.sum(tmp)).astype(int)\n",
        "# we simulate at least 10 samples in each stratum\n",
        "ni_opt = np.maximum(ni_opt, 10)\n",
        "\n",
        "p_hat3 = 0.\n",
        "var_hat3 = 0.\n",
        "\n",
        "for i in range(m):\n",
        "    u = cdf_delta[i] + (cdf_delta[i + 1] - cdf_delta[i]) * np.random.rand(ni_opt[i])\n",
        "    print(ni_opt[i])\n",
        "    z = sp.stats.norm.ppf(u)\n",
        "    s1 = s0 * np.exp((r - q - sig*sig/2)*T + sig*np.sqrt(T)*z)\n",
        "    payoff = np.exp(-r*T)*np.maximum(K- s1, 0)\n",
        "    theta_i = np.mean(payoff)\n",
        "    var_i = np.var(payoff, ddof=1)\n",
        "    p_hat3 += theta_i * p[i]\n",
        "    var_hat3 += var_i * p[i] * p[i] / ni_opt[i]\n",
        "    std_err3 = np.sqrt(var_hat3)"
      ],
      "metadata": {
        "colab": {
          "base_uri": "https://localhost:8080/"
        },
        "id": "F2ChfDNtIhGX",
        "outputId": "ac7f4cf9-6fbd-4b26-fd37-8f4e7136ee6f"
      },
      "execution_count": null,
      "outputs": [
        {
          "output_type": "stream",
          "name": "stdout",
          "text": [
            "10\n",
            "20000\n",
            "10\n",
            "10\n"
          ]
        }
      ]
    },
    {
      "cell_type": "code",
      "source": [
        "print('Stratified sampling (optimal)')\n",
        "print('Exact solution = %3.4f' % put)\n",
        "print('Number of samples per stratum: ' + str(ni_opt))\n",
        "print('p_hat = %3.5f' % p_hat3)\n",
        "print('std error = %3.5f' % std_err3)"
      ],
      "metadata": {
        "colab": {
          "base_uri": "https://localhost:8080/"
        },
        "id": "JKS0z0kxJgRG",
        "outputId": "daf2e2d4-944e-4aca-a81d-fffbaa55d199"
      },
      "execution_count": null,
      "outputs": [
        {
          "output_type": "stream",
          "name": "stdout",
          "text": [
            "Stratified sampling (optimal)\n",
            "Exact solution = 26.2173\n",
            "Number of samples per stratum: [   10 20000    10    10]\n",
            "p_hat = 26.20396\n",
            "std error = 0.27324\n"
          ]
        }
      ]
    },
    {
      "cell_type": "code",
      "source": [
        "stra_a_p.append(p_hat3)\n",
        "stra_a_e.append(std_err3)"
      ],
      "metadata": {
        "id": "0i6bxJJ1P0e-"
      },
      "execution_count": null,
      "outputs": []
    },
    {
      "cell_type": "markdown",
      "source": [
        "### n = 50000, Stratum (a)"
      ],
      "metadata": {
        "id": "nAYW_Cd_JyZp"
      }
    },
    {
      "cell_type": "code",
      "source": [
        "np.random.seed(147985234)\n",
        "n_sims = 50000"
      ],
      "metadata": {
        "id": "P6Q66l8AJyZq"
      },
      "execution_count": null,
      "outputs": []
    },
    {
      "cell_type": "code",
      "source": [
        "delta = np.array([-np.inf, -6, 0, 3, np.inf])\n",
        "cdf_delta = sp.stats.norm.cdf(delta)\n",
        "p = np.diff(cdf_delta)\n",
        "m = len(p)"
      ],
      "metadata": {
        "id": "DV7gb1sAJyZq"
      },
      "execution_count": null,
      "outputs": []
    },
    {
      "cell_type": "code",
      "source": [
        "# pilot program to find ni optimal\n",
        "sig_i = np.zeros(m)\n",
        "for i in range(m):\n",
        "    n_pilot = 500\n",
        "    u = cdf_delta[i] + (cdf_delta[i + 1] - cdf_delta[i]) * np.random.rand(n_pilot)\n",
        "    z = sp.stats.norm.ppf(u)\n",
        "    s1 = s0 * np.exp((r - q - sig*sig/2)*T + sig*np.sqrt(T)*z)\n",
        "    payoff = np.exp(-r*T)*np.maximum(K - s1, 0)\n",
        "    sig_i[i] = np.std(payoff, ddof=1)\n",
        "    \n",
        "# num of samples is proportional to p * sigma\n",
        "tmp = sig_i * p\n",
        "ni_opt = np.ceil(n_sims * tmp / np.sum(tmp)).astype(int)\n",
        "# we simulate at least 10 samples in each stratum\n",
        "ni_opt = np.maximum(ni_opt, 10)\n",
        "\n",
        "p_hat3 = 0.\n",
        "var_hat3 = 0.\n",
        "\n",
        "for i in range(m):\n",
        "    u = cdf_delta[i] + (cdf_delta[i + 1] - cdf_delta[i]) * np.random.rand(ni_opt[i])\n",
        "    print(ni_opt[i])\n",
        "    z = sp.stats.norm.ppf(u)\n",
        "    s1 = s0 * np.exp((r - q - sig*sig/2)*T + sig*np.sqrt(T)*z)\n",
        "    payoff = np.exp(-r*T)*np.maximum(K- s1, 0)\n",
        "    theta_i = np.mean(payoff)\n",
        "    var_i = np.var(payoff, ddof=1)\n",
        "    p_hat3 += theta_i * p[i]\n",
        "    var_hat3 += var_i * p[i] * p[i] / ni_opt[i]\n",
        "    std_err3 = np.sqrt(var_hat3)"
      ],
      "metadata": {
        "colab": {
          "base_uri": "https://localhost:8080/"
        },
        "outputId": "d44abf36-d2f6-4af6-9bbf-07c9c7ce74f2",
        "id": "aP5RLFihJyZq"
      },
      "execution_count": null,
      "outputs": [
        {
          "output_type": "stream",
          "name": "stdout",
          "text": [
            "10\n",
            "50000\n",
            "10\n",
            "10\n"
          ]
        }
      ]
    },
    {
      "cell_type": "code",
      "source": [
        "print('Stratified sampling (optimal)')\n",
        "print('Exact solution = %3.4f' % put)\n",
        "print('Number of samples per stratum: ' + str(ni_opt))\n",
        "print('p_hat = %3.5f' % p_hat3)\n",
        "print('std error = %3.5f' % std_err3)"
      ],
      "metadata": {
        "colab": {
          "base_uri": "https://localhost:8080/"
        },
        "outputId": "af72dc4b-93a6-4916-b103-e6cc93ac7c9a",
        "id": "MsnEMNriJyZr"
      },
      "execution_count": null,
      "outputs": [
        {
          "output_type": "stream",
          "name": "stdout",
          "text": [
            "Stratified sampling (optimal)\n",
            "Exact solution = 26.2173\n",
            "Number of samples per stratum: [   10 50000    10    10]\n",
            "p_hat = 26.21404\n",
            "std error = 0.17341\n"
          ]
        }
      ]
    },
    {
      "cell_type": "code",
      "source": [
        "stra_a_p.append(p_hat3)\n",
        "stra_a_e.append(std_err3)"
      ],
      "metadata": {
        "id": "VW_wdKrMPnZx"
      },
      "execution_count": null,
      "outputs": []
    },
    {
      "cell_type": "markdown",
      "source": [
        "### n = 100000, Stratum (a)"
      ],
      "metadata": {
        "id": "C94mixr4J3wF"
      }
    },
    {
      "cell_type": "code",
      "source": [
        "np.random.seed(147985234)\n",
        "n_sims = 100000"
      ],
      "metadata": {
        "id": "vB9-hckMJ3wF"
      },
      "execution_count": null,
      "outputs": []
    },
    {
      "cell_type": "code",
      "source": [
        "delta = np.array([-np.inf, -6, 0, 3, np.inf])\n",
        "cdf_delta = sp.stats.norm.cdf(delta)\n",
        "p = np.diff(cdf_delta)\n",
        "m = len(p)"
      ],
      "metadata": {
        "id": "zEw9jXOWJ3wF"
      },
      "execution_count": null,
      "outputs": []
    },
    {
      "cell_type": "code",
      "source": [
        "# pilot program to find ni optimal\n",
        "sig_i = np.zeros(m)\n",
        "for i in range(m):\n",
        "    n_pilot = 500\n",
        "    u = cdf_delta[i] + (cdf_delta[i + 1] - cdf_delta[i]) * np.random.rand(n_pilot)\n",
        "    z = sp.stats.norm.ppf(u)\n",
        "    s1 = s0 * np.exp((r - q - sig*sig/2)*T + sig*np.sqrt(T)*z)\n",
        "    payoff = np.exp(-r*T)*np.maximum(K - s1, 0)\n",
        "    sig_i[i] = np.std(payoff, ddof=1)\n",
        "    \n",
        "# num of samples is proportional to p * sigma\n",
        "tmp = sig_i * p\n",
        "ni_opt = np.ceil(n_sims * tmp / np.sum(tmp)).astype(int)\n",
        "# we simulate at least 10 samples in each stratum\n",
        "ni_opt = np.maximum(ni_opt, 10)\n",
        "\n",
        "p_hat3 = 0.\n",
        "var_hat3 = 0.\n",
        "\n",
        "for i in range(m):\n",
        "    u = cdf_delta[i] + (cdf_delta[i + 1] - cdf_delta[i]) * np.random.rand(ni_opt[i])\n",
        "    print(ni_opt[i])\n",
        "    z = sp.stats.norm.ppf(u)\n",
        "    s1 = s0 * np.exp((r - q - sig*sig/2)*T + sig*np.sqrt(T)*z)\n",
        "    payoff = np.exp(-r*T)*np.maximum(K- s1, 0)\n",
        "    theta_i = np.mean(payoff)\n",
        "    var_i = np.var(payoff, ddof=1)\n",
        "    p_hat3 += theta_i * p[i]\n",
        "    var_hat3 += var_i * p[i] * p[i] / ni_opt[i]\n",
        "    std_err3 = np.sqrt(var_hat3)"
      ],
      "metadata": {
        "colab": {
          "base_uri": "https://localhost:8080/"
        },
        "outputId": "4f8d77eb-ce76-488a-d1d6-4296ffb82e00",
        "id": "Ja4dH739J3wF"
      },
      "execution_count": null,
      "outputs": [
        {
          "output_type": "stream",
          "name": "stdout",
          "text": [
            "10\n",
            "100000\n",
            "10\n",
            "10\n"
          ]
        }
      ]
    },
    {
      "cell_type": "code",
      "source": [
        "print('Stratified sampling (optimal)')\n",
        "print('Exact solution = %3.4f' % put)\n",
        "print('Number of samples per stratum: ' + str(ni_opt))\n",
        "print('p_hat = %3.5f' % p_hat3)\n",
        "print('std error = %3.5f' % std_err3)"
      ],
      "metadata": {
        "colab": {
          "base_uri": "https://localhost:8080/"
        },
        "outputId": "e2ea8a46-3196-48f7-cf64-a04dd138444d",
        "id": "EaH95AwJJ3wG"
      },
      "execution_count": null,
      "outputs": [
        {
          "output_type": "stream",
          "name": "stdout",
          "text": [
            "Stratified sampling (optimal)\n",
            "Exact solution = 26.2173\n",
            "Number of samples per stratum: [    10 100000     10     10]\n",
            "p_hat = 26.18078\n",
            "std error = 0.12233\n"
          ]
        }
      ]
    },
    {
      "cell_type": "code",
      "source": [
        "stra_a_p.append(p_hat3)\n",
        "stra_a_e.append(std_err3)"
      ],
      "metadata": {
        "id": "vtihV7ZeP2vV"
      },
      "execution_count": null,
      "outputs": []
    },
    {
      "cell_type": "markdown",
      "source": [
        "## Stratum (b)"
      ],
      "metadata": {
        "id": "tNOEaj1OLUcM"
      }
    },
    {
      "cell_type": "markdown",
      "source": [
        "### n = 20000, Stratum (b)"
      ],
      "metadata": {
        "id": "Nq3EEE6YLshQ"
      }
    },
    {
      "cell_type": "code",
      "source": [
        "np.random.seed(147985234)\n",
        "n_sims = 20000    "
      ],
      "metadata": {
        "id": "iQTLi5WjLshU"
      },
      "execution_count": null,
      "outputs": []
    },
    {
      "cell_type": "code",
      "source": [
        "delta = np.array([-np.inf, 1, 2, 6, np.inf])\n",
        "cdf_delta = sp.stats.norm.cdf(delta)\n",
        "p = np.diff(cdf_delta)\n",
        "m = len(p)"
      ],
      "metadata": {
        "id": "gyDmdejlLshV"
      },
      "execution_count": null,
      "outputs": []
    },
    {
      "cell_type": "code",
      "source": [
        "# pilot program to find ni optimal\n",
        "sig_i = np.zeros(m)\n",
        "for i in range(m):\n",
        "    n_pilot = 500\n",
        "    u = cdf_delta[i] + (cdf_delta[i + 1] - cdf_delta[i]) * np.random.rand(n_pilot)\n",
        "    z = sp.stats.norm.ppf(u)\n",
        "    s1 = s0 * np.exp((r - q - sig*sig/2)*T + sig*np.sqrt(T)*z)\n",
        "    payoff = np.exp(-r*T)*np.maximum(K - s1, 0)\n",
        "    sig_i[i] = np.std(payoff, ddof=1)\n",
        "    \n",
        "# num of samples is proportional to p * sigma\n",
        "tmp = sig_i * p\n",
        "ni_opt = np.ceil(n_sims * tmp / np.sum(tmp)).astype(int)\n",
        "# we simulate at least 10 samples in each stratum\n",
        "ni_opt = np.maximum(ni_opt, 10)\n",
        "\n",
        "p_hat3 = 0.\n",
        "var_hat3 = 0.\n",
        "\n",
        "for i in range(m):\n",
        "    u = cdf_delta[i] + (cdf_delta[i + 1] - cdf_delta[i]) * np.random.rand(ni_opt[i])\n",
        "    print(ni_opt[i])\n",
        "    z = sp.stats.norm.ppf(u)\n",
        "    s1 = s0 * np.exp((r - q - sig*sig/2)*T + sig*np.sqrt(T)*z)\n",
        "    payoff = np.exp(-r*T)*np.maximum(K- s1, 0)\n",
        "    theta_i = np.mean(payoff)\n",
        "    var_i = np.var(payoff, ddof=1)\n",
        "    p_hat3 += theta_i * p[i]\n",
        "    var_hat3 += var_i * p[i] * p[i] / ni_opt[i]\n",
        "    std_err3 = np.sqrt(var_hat3)"
      ],
      "metadata": {
        "colab": {
          "base_uri": "https://localhost:8080/"
        },
        "outputId": "d48e3244-1b86-47bc-de95-5ba784422025",
        "id": "5D-h5DI9LshV"
      },
      "execution_count": null,
      "outputs": [
        {
          "output_type": "stream",
          "name": "stdout",
          "text": [
            "20000\n",
            "10\n",
            "10\n",
            "10\n"
          ]
        }
      ]
    },
    {
      "cell_type": "code",
      "source": [
        "print('Stratified sampling (optimal)')\n",
        "print('Exact solution = %3.4f' % put)\n",
        "print('Number of samples per stratum: ' + str(ni_opt))\n",
        "print('p_hat = %3.5f' % p_hat3)\n",
        "print('std error = %3.5f' % std_err3)"
      ],
      "metadata": {
        "colab": {
          "base_uri": "https://localhost:8080/"
        },
        "outputId": "3fa86098-7956-4acc-fb55-9e15aa63afde",
        "id": "jJhMnk1aLshV"
      },
      "execution_count": null,
      "outputs": [
        {
          "output_type": "stream",
          "name": "stdout",
          "text": [
            "Stratified sampling (optimal)\n",
            "Exact solution = 26.2173\n",
            "Number of samples per stratum: [20000    10    10    10]\n",
            "p_hat = 26.03551\n",
            "std error = 0.38405\n"
          ]
        }
      ]
    },
    {
      "cell_type": "code",
      "source": [
        "stra_b_p.append(p_hat3)\n",
        "stra_b_e.append(std_err3)"
      ],
      "metadata": {
        "id": "bgi1QUPBP502"
      },
      "execution_count": null,
      "outputs": []
    },
    {
      "cell_type": "markdown",
      "source": [
        "### n = 50000, Stratum (b)"
      ],
      "metadata": {
        "id": "tmi6h5eNKV2f"
      }
    },
    {
      "cell_type": "code",
      "source": [
        "np.random.seed(147985234)\n",
        "n_sims = 50000    "
      ],
      "metadata": {
        "id": "Hm_Rkt2bKV2g"
      },
      "execution_count": null,
      "outputs": []
    },
    {
      "cell_type": "code",
      "source": [
        "delta = np.array([-np.inf, 1, 2, 6, np.inf])\n",
        "cdf_delta = sp.stats.norm.cdf(delta)\n",
        "p = np.diff(cdf_delta)\n",
        "m = len(p)"
      ],
      "metadata": {
        "id": "X575ZdAoKV2g"
      },
      "execution_count": null,
      "outputs": []
    },
    {
      "cell_type": "code",
      "source": [
        "# pilot program to find ni optimal\n",
        "sig_i = np.zeros(m)\n",
        "for i in range(m):\n",
        "    n_pilot = 500\n",
        "    u = cdf_delta[i] + (cdf_delta[i + 1] - cdf_delta[i]) * np.random.rand(n_pilot)\n",
        "    z = sp.stats.norm.ppf(u)\n",
        "    s1 = s0 * np.exp((r - q - sig*sig/2)*T + sig*np.sqrt(T)*z)\n",
        "    payoff = np.exp(-r*T)*np.maximum(K - s1, 0)\n",
        "    sig_i[i] = np.std(payoff, ddof=1)\n",
        "    \n",
        "# num of samples is proportional to p * sigma\n",
        "tmp = sig_i * p\n",
        "ni_opt = np.ceil(n_sims * tmp / np.sum(tmp)).astype(int)\n",
        "# we simulate at least 10 samples in each stratum\n",
        "ni_opt = np.maximum(ni_opt, 10)\n",
        "\n",
        "p_hat3 = 0.\n",
        "var_hat3 = 0.\n",
        "\n",
        "for i in range(m):\n",
        "    u = cdf_delta[i] + (cdf_delta[i + 1] - cdf_delta[i]) * np.random.rand(ni_opt[i])\n",
        "    print(ni_opt[i])\n",
        "    z = sp.stats.norm.ppf(u)\n",
        "    s1 = s0 * np.exp((r - q - sig*sig/2)*T + sig*np.sqrt(T)*z)\n",
        "    payoff = np.exp(-r*T)*np.maximum(K- s1, 0)\n",
        "    theta_i = np.mean(payoff)\n",
        "    var_i = np.var(payoff, ddof=1)\n",
        "    p_hat3 += theta_i * p[i]\n",
        "    var_hat3 += var_i * p[i] * p[i] / ni_opt[i]\n",
        "    std_err3 = np.sqrt(var_hat3)"
      ],
      "metadata": {
        "colab": {
          "base_uri": "https://localhost:8080/"
        },
        "outputId": "7734908b-d0e0-4f77-d07f-fa63aad32739",
        "id": "olcCfmu9KV2g"
      },
      "execution_count": null,
      "outputs": [
        {
          "output_type": "stream",
          "name": "stdout",
          "text": [
            "50000\n",
            "10\n",
            "10\n",
            "10\n"
          ]
        }
      ]
    },
    {
      "cell_type": "code",
      "source": [
        "print('Stratified sampling (optimal)')\n",
        "print('Exact solution = %3.4f' % put)\n",
        "print('Number of samples per stratum: ' + str(ni_opt))\n",
        "print('p_hat = %3.5f' % p_hat3)\n",
        "print('std error = %3.5f' % std_err3)"
      ],
      "metadata": {
        "colab": {
          "base_uri": "https://localhost:8080/"
        },
        "outputId": "552d9c5c-2eca-4028-af80-9cb73a60afff",
        "id": "4btWkz13KV2g"
      },
      "execution_count": null,
      "outputs": [
        {
          "output_type": "stream",
          "name": "stdout",
          "text": [
            "Stratified sampling (optimal)\n",
            "Exact solution = 26.2173\n",
            "Number of samples per stratum: [50000    10    10    10]\n",
            "p_hat = 26.06903\n",
            "std error = 0.24464\n"
          ]
        }
      ]
    },
    {
      "cell_type": "code",
      "source": [
        "stra_b_p.append(p_hat3)\n",
        "stra_b_e.append(std_err3)"
      ],
      "metadata": {
        "id": "LNw8mrR9P9f0"
      },
      "execution_count": null,
      "outputs": []
    },
    {
      "cell_type": "markdown",
      "source": [
        "### n = 100000, Stratum (b)"
      ],
      "metadata": {
        "id": "1r3SL38pKWgT"
      }
    },
    {
      "cell_type": "code",
      "source": [
        "np.random.seed(147985234)\n",
        "n_sims = 100000"
      ],
      "metadata": {
        "id": "KrDWui7UKWgT"
      },
      "execution_count": null,
      "outputs": []
    },
    {
      "cell_type": "code",
      "source": [
        "delta = np.array([-np.inf, 1, 2, 6, np.inf])\n",
        "cdf_delta = sp.stats.norm.cdf(delta)\n",
        "p = np.diff(cdf_delta)\n",
        "m = len(p)"
      ],
      "metadata": {
        "id": "2y8083j-KWgT"
      },
      "execution_count": null,
      "outputs": []
    },
    {
      "cell_type": "code",
      "source": [
        "# pilot program to find ni optimal\n",
        "sig_i = np.zeros(m)\n",
        "for i in range(m):\n",
        "    n_pilot = 500\n",
        "    u = cdf_delta[i] + (cdf_delta[i + 1] - cdf_delta[i]) * np.random.rand(n_pilot)\n",
        "    z = sp.stats.norm.ppf(u)\n",
        "    s1 = s0 * np.exp((r - q - sig*sig/2)*T + sig*np.sqrt(T)*z)\n",
        "    payoff = np.exp(-r*T)*np.maximum(K - s1, 0)\n",
        "    sig_i[i] = np.std(payoff, ddof=1)\n",
        "    \n",
        "# num of samples is proportional to p * sigma\n",
        "tmp = sig_i * p\n",
        "ni_opt = np.ceil(n_sims * tmp / np.sum(tmp)).astype(int)\n",
        "# we simulate at least 10 samples in each stratum\n",
        "ni_opt = np.maximum(ni_opt, 10)\n",
        "\n",
        "p_hat3 = 0.\n",
        "var_hat3 = 0.\n",
        "\n",
        "for i in range(m):\n",
        "    u = cdf_delta[i] + (cdf_delta[i + 1] - cdf_delta[i]) * np.random.rand(ni_opt[i])\n",
        "    print(ni_opt[i])\n",
        "    z = sp.stats.norm.ppf(u)\n",
        "    s1 = s0 * np.exp((r - q - sig*sig/2)*T + sig*np.sqrt(T)*z)\n",
        "    payoff = np.exp(-r*T)*np.maximum(K- s1, 0)\n",
        "    theta_i = np.mean(payoff)\n",
        "    var_i = np.var(payoff, ddof=1)\n",
        "    p_hat3 += theta_i * p[i]\n",
        "    var_hat3 += var_i * p[i] * p[i] / ni_opt[i]\n",
        "    std_err3 = np.sqrt(var_hat3)"
      ],
      "metadata": {
        "colab": {
          "base_uri": "https://localhost:8080/"
        },
        "outputId": "20efffbe-ad3a-4e6f-fe18-3c4d39e012c9",
        "id": "5eqJwhJ-KWgT"
      },
      "execution_count": null,
      "outputs": [
        {
          "output_type": "stream",
          "name": "stdout",
          "text": [
            "100000\n",
            "10\n",
            "10\n",
            "10\n"
          ]
        }
      ]
    },
    {
      "cell_type": "code",
      "source": [
        "print('Stratified sampling (optimal)')\n",
        "print('Exact solution = %3.4f' % put)\n",
        "print('Number of samples per stratum: ' + str(ni_opt))\n",
        "print('p_hat = %3.5f' % p_hat3)\n",
        "print('std error = %3.5f' % std_err3)"
      ],
      "metadata": {
        "colab": {
          "base_uri": "https://localhost:8080/"
        },
        "outputId": "4e1323e1-36d4-4762-eccc-1e21f19dd00a",
        "id": "dV38HmxiKWgT"
      },
      "execution_count": null,
      "outputs": [
        {
          "output_type": "stream",
          "name": "stdout",
          "text": [
            "Stratified sampling (optimal)\n",
            "Exact solution = 26.2173\n",
            "Number of samples per stratum: [100000     10     10     10]\n",
            "p_hat = 25.99014\n",
            "std error = 0.17238\n"
          ]
        }
      ]
    },
    {
      "cell_type": "code",
      "source": [
        "stra_b_p.append(p_hat3)\n",
        "stra_b_e.append(std_err3)"
      ],
      "metadata": {
        "id": "72ye53kKP-gp"
      },
      "execution_count": null,
      "outputs": []
    },
    {
      "cell_type": "markdown",
      "source": [
        "## Stratum (c)"
      ],
      "metadata": {
        "id": "JK7XUTryLZjj"
      }
    },
    {
      "cell_type": "markdown",
      "source": [
        "### n = 20000, Stratum (c)"
      ],
      "metadata": {
        "id": "DpwcPPjBKmHt"
      }
    },
    {
      "cell_type": "code",
      "source": [
        "np.random.seed(147985234)\n",
        "n_sims = 20000"
      ],
      "metadata": {
        "id": "aRDHU2rwKmHx"
      },
      "execution_count": null,
      "outputs": []
    },
    {
      "cell_type": "code",
      "source": [
        "delta = np.array([-np.inf, -1, 3, np.inf])\n",
        "cdf_delta = sp.stats.norm.cdf(delta)\n",
        "p = np.diff(cdf_delta)\n",
        "m = len(p)"
      ],
      "metadata": {
        "id": "HRj5m307KmHx"
      },
      "execution_count": null,
      "outputs": []
    },
    {
      "cell_type": "code",
      "source": [
        "# pilot program to find ni optimal\n",
        "sig_i = np.zeros(m)\n",
        "for i in range(m):\n",
        "    n_pilot = 500\n",
        "    u = cdf_delta[i] + (cdf_delta[i + 1] - cdf_delta[i]) * np.random.rand(n_pilot)\n",
        "    z = sp.stats.norm.ppf(u)\n",
        "    s1 = s0 * np.exp((r - q - sig*sig/2)*T + sig*np.sqrt(T)*z)\n",
        "    payoff = np.exp(-r*T)*np.maximum(K - s1, 0)\n",
        "    sig_i[i] = np.std(payoff, ddof=1)\n",
        "    \n",
        "# num of samples is proportional to p * sigma\n",
        "tmp = sig_i * p\n",
        "ni_opt = np.ceil(n_sims * tmp / np.sum(tmp)).astype(int)\n",
        "# we simulate at least 10 samples in each stratum\n",
        "ni_opt = np.maximum(ni_opt, 10)\n",
        "\n",
        "p_hat3 = 0.\n",
        "var_hat3 = 0.\n",
        "\n",
        "for i in range(m):\n",
        "    u = cdf_delta[i] + (cdf_delta[i + 1] - cdf_delta[i]) * np.random.rand(ni_opt[i])\n",
        "    print(ni_opt[i])\n",
        "    z = sp.stats.norm.ppf(u)\n",
        "    s1 = s0 * np.exp((r - q - sig*sig/2)*T + sig*np.sqrt(T)*z)\n",
        "    payoff = np.exp(-r*T)*np.maximum(K- s1, 0)\n",
        "    theta_i = np.mean(payoff)\n",
        "    var_i = np.var(payoff, ddof=1)\n",
        "    p_hat3 += theta_i * p[i]\n",
        "    var_hat3 += var_i * p[i] * p[i] / ni_opt[i]\n",
        "    std_err3 = np.sqrt(var_hat3)"
      ],
      "metadata": {
        "colab": {
          "base_uri": "https://localhost:8080/"
        },
        "outputId": "8b184790-707f-4b2e-efa2-02f9019aae85",
        "id": "6amuKZyCKmHx"
      },
      "execution_count": null,
      "outputs": [
        {
          "output_type": "stream",
          "name": "stdout",
          "text": [
            "10459\n",
            "9542\n",
            "10\n"
          ]
        }
      ]
    },
    {
      "cell_type": "code",
      "source": [
        "print('Stratified sampling (optimal)')\n",
        "print('Exact solution = %3.4f' % put)\n",
        "print('Number of samples per stratum: ' + str(ni_opt))\n",
        "print('p_hat = %3.5f' % p_hat3)\n",
        "print('std error = %3.5f' % std_err3)"
      ],
      "metadata": {
        "colab": {
          "base_uri": "https://localhost:8080/"
        },
        "outputId": "51919e2d-8554-4da8-cf72-44b62faddd65",
        "id": "nVYKPU6-KmHx"
      },
      "execution_count": null,
      "outputs": [
        {
          "output_type": "stream",
          "name": "stdout",
          "text": [
            "Stratified sampling (optimal)\n",
            "Exact solution = 26.2173\n",
            "Number of samples per stratum: [10459  9542    10]\n",
            "p_hat = 26.14954\n",
            "std error = 0.14154\n"
          ]
        }
      ]
    },
    {
      "cell_type": "code",
      "source": [
        "stra_c_p.append(p_hat3)\n",
        "stra_c_e.append(std_err3)"
      ],
      "metadata": {
        "id": "-wn_2GAvQAxP"
      },
      "execution_count": null,
      "outputs": []
    },
    {
      "cell_type": "markdown",
      "source": [
        "### n = 50000, Stratum (c)"
      ],
      "metadata": {
        "id": "1CtGF9l4KzlO"
      }
    },
    {
      "cell_type": "code",
      "source": [
        "np.random.seed(147985234)\n",
        "n_sims = 50000"
      ],
      "metadata": {
        "id": "YPl2nFUuKzlU"
      },
      "execution_count": null,
      "outputs": []
    },
    {
      "cell_type": "code",
      "source": [
        "delta = np.array([-np.inf, -1, 3, np.inf])\n",
        "cdf_delta = sp.stats.norm.cdf(delta)\n",
        "p = np.diff(cdf_delta)\n",
        "m = len(p)"
      ],
      "metadata": {
        "id": "3bmJswzFKzlU"
      },
      "execution_count": null,
      "outputs": []
    },
    {
      "cell_type": "code",
      "source": [
        "# pilot program to find ni optimal\n",
        "sig_i = np.zeros(m)\n",
        "for i in range(m):\n",
        "    n_pilot = 500\n",
        "    u = cdf_delta[i] + (cdf_delta[i + 1] - cdf_delta[i]) * np.random.rand(n_pilot)\n",
        "    z = sp.stats.norm.ppf(u)\n",
        "    s1 = s0 * np.exp((r - q - sig*sig/2)*T + sig*np.sqrt(T)*z)\n",
        "    payoff = np.exp(-r*T)*np.maximum(K - s1, 0)\n",
        "    sig_i[i] = np.std(payoff, ddof=1)\n",
        "    \n",
        "# num of samples is proportional to p * sigma\n",
        "tmp = sig_i * p\n",
        "ni_opt = np.ceil(n_sims * tmp / np.sum(tmp)).astype(int)\n",
        "# we simulate at least 10 samples in each stratum\n",
        "ni_opt = np.maximum(ni_opt, 10)\n",
        "\n",
        "p_hat3 = 0.\n",
        "var_hat3 = 0.\n",
        "\n",
        "for i in range(m):\n",
        "    u = cdf_delta[i] + (cdf_delta[i + 1] - cdf_delta[i]) * np.random.rand(ni_opt[i])\n",
        "    print(ni_opt[i])\n",
        "    z = sp.stats.norm.ppf(u)\n",
        "    s1 = s0 * np.exp((r - q - sig*sig/2)*T + sig*np.sqrt(T)*z)\n",
        "    payoff = np.exp(-r*T)*np.maximum(K- s1, 0)\n",
        "    theta_i = np.mean(payoff)\n",
        "    var_i = np.var(payoff, ddof=1)\n",
        "    p_hat3 += theta_i * p[i]\n",
        "    var_hat3 += var_i * p[i] * p[i] / ni_opt[i]\n",
        "    std_err3 = np.sqrt(var_hat3)"
      ],
      "metadata": {
        "colab": {
          "base_uri": "https://localhost:8080/"
        },
        "outputId": "83bb22a2-6687-41cb-9f19-2fdceeeff4ca",
        "id": "JF7I1-x-KzlU"
      },
      "execution_count": null,
      "outputs": [
        {
          "output_type": "stream",
          "name": "stdout",
          "text": [
            "26147\n",
            "23854\n",
            "10\n"
          ]
        }
      ]
    },
    {
      "cell_type": "code",
      "source": [
        "print('Stratified sampling (optimal)')\n",
        "print('Exact solution = %3.4f' % put)\n",
        "print('Number of samples per stratum: ' + str(ni_opt))\n",
        "print('p_hat = %3.5f' % p_hat3)\n",
        "print('std error = %3.5f' % std_err3)"
      ],
      "metadata": {
        "colab": {
          "base_uri": "https://localhost:8080/"
        },
        "outputId": "2dbabe6f-6775-4ea5-e6ab-0d1b8d427052",
        "id": "xNWlNYP1KzlU"
      },
      "execution_count": null,
      "outputs": [
        {
          "output_type": "stream",
          "name": "stdout",
          "text": [
            "Stratified sampling (optimal)\n",
            "Exact solution = 26.2173\n",
            "Number of samples per stratum: [26147 23854    10]\n",
            "p_hat = 26.15956\n",
            "std error = 0.09001\n"
          ]
        }
      ]
    },
    {
      "cell_type": "code",
      "source": [
        "stra_c_p.append(p_hat3)\n",
        "stra_c_e.append(std_err3)"
      ],
      "metadata": {
        "id": "cSaR1ZI0QDP0"
      },
      "execution_count": null,
      "outputs": []
    },
    {
      "cell_type": "markdown",
      "source": [
        "### n = 100000, Stratum (c)"
      ],
      "metadata": {
        "id": "NYMcUtkJK0Qu"
      }
    },
    {
      "cell_type": "code",
      "source": [
        "np.random.seed(147985234)\n",
        "n_sims = 100000"
      ],
      "metadata": {
        "id": "Cd-_BNbaK0Qu"
      },
      "execution_count": null,
      "outputs": []
    },
    {
      "cell_type": "code",
      "source": [
        "delta = np.array([-np.inf, -1, 3, np.inf])\n",
        "cdf_delta = sp.stats.norm.cdf(delta)\n",
        "p = np.diff(cdf_delta)\n",
        "m = len(p)"
      ],
      "metadata": {
        "id": "JE3IKz0GK0Qu"
      },
      "execution_count": null,
      "outputs": []
    },
    {
      "cell_type": "code",
      "source": [
        "# pilot program to find ni optimal\n",
        "sig_i = np.zeros(m)\n",
        "for i in range(m):\n",
        "    n_pilot = 500\n",
        "    u = cdf_delta[i] + (cdf_delta[i + 1] - cdf_delta[i]) * np.random.rand(n_pilot)\n",
        "    z = sp.stats.norm.ppf(u)\n",
        "    s1 = s0 * np.exp((r - q - sig*sig/2)*T + sig*np.sqrt(T)*z)\n",
        "    payoff = np.exp(-r*T)*np.maximum(K - s1, 0)\n",
        "    sig_i[i] = np.std(payoff, ddof=1)\n",
        "    \n",
        "# num of samples is proportional to p * sigma\n",
        "tmp = sig_i * p\n",
        "ni_opt = np.ceil(n_sims * tmp / np.sum(tmp)).astype(int)\n",
        "# we simulate at least 10 samples in each stratum\n",
        "ni_opt = np.maximum(ni_opt, 10)\n",
        "\n",
        "p_hat3 = 0.\n",
        "var_hat3 = 0.\n",
        "\n",
        "for i in range(m):\n",
        "    u = cdf_delta[i] + (cdf_delta[i + 1] - cdf_delta[i]) * np.random.rand(ni_opt[i])\n",
        "    print(ni_opt[i])\n",
        "    z = sp.stats.norm.ppf(u)\n",
        "    s1 = s0 * np.exp((r - q - sig*sig/2)*T + sig*np.sqrt(T)*z)\n",
        "    payoff = np.exp(-r*T)*np.maximum(K- s1, 0)\n",
        "    theta_i = np.mean(payoff)\n",
        "    var_i = np.var(payoff, ddof=1)\n",
        "    p_hat3 += theta_i * p[i]\n",
        "    var_hat3 += var_i * p[i] * p[i] / ni_opt[i]\n",
        "    std_err3 = np.sqrt(var_hat3)"
      ],
      "metadata": {
        "colab": {
          "base_uri": "https://localhost:8080/"
        },
        "outputId": "69ed327c-6308-49da-f07d-af82cf9d1026",
        "id": "9MQwSIMQK0Qu"
      },
      "execution_count": null,
      "outputs": [
        {
          "output_type": "stream",
          "name": "stdout",
          "text": [
            "52293\n",
            "47708\n",
            "10\n"
          ]
        }
      ]
    },
    {
      "cell_type": "code",
      "source": [
        "print('Stratified sampling (optimal)')\n",
        "print('Exact solution = %3.4f' % put)\n",
        "print('Number of samples per stratum: ' + str(ni_opt))\n",
        "print('p_hat = %3.5f' % p_hat3)\n",
        "print('std error = %3.5f' % std_err3)"
      ],
      "metadata": {
        "colab": {
          "base_uri": "https://localhost:8080/"
        },
        "outputId": "9235748a-b1a2-4c39-e5fa-51d39a3f87e0",
        "id": "WAVFDbHHK0Qu"
      },
      "execution_count": null,
      "outputs": [
        {
          "output_type": "stream",
          "name": "stdout",
          "text": [
            "Stratified sampling (optimal)\n",
            "Exact solution = 26.2173\n",
            "Number of samples per stratum: [52293 47708    10]\n",
            "p_hat = 26.17764\n",
            "std error = 0.06336\n"
          ]
        }
      ]
    },
    {
      "cell_type": "code",
      "source": [
        "stra_c_p.append(p_hat3)\n",
        "stra_c_e.append(std_err3)"
      ],
      "metadata": {
        "id": "QhgUHzMYQEdJ"
      },
      "execution_count": null,
      "outputs": []
    },
    {
      "cell_type": "markdown",
      "source": [
        "## Stratum (d)"
      ],
      "metadata": {
        "id": "IYAoxOXdLxyD"
      }
    },
    {
      "cell_type": "markdown",
      "source": [
        "### n = 20000, Stratum (d)"
      ],
      "metadata": {
        "id": "pRjYHQCrL2IN"
      }
    },
    {
      "cell_type": "code",
      "source": [
        "np.random.seed(147985234)\n",
        "n_sims = 20000"
      ],
      "metadata": {
        "id": "a1H5IhkhL2IN"
      },
      "execution_count": null,
      "outputs": []
    },
    {
      "cell_type": "code",
      "source": [
        "delta = np.array([-np.inf, 0, 1, np.inf])\n",
        "cdf_delta = sp.stats.norm.cdf(delta)\n",
        "p = np.diff(cdf_delta)\n",
        "m = len(p)"
      ],
      "metadata": {
        "id": "WzHuwrw8L2IN"
      },
      "execution_count": null,
      "outputs": []
    },
    {
      "cell_type": "code",
      "source": [
        "# pilot program to find ni optimal\n",
        "sig_i = np.zeros(m)\n",
        "for i in range(m):\n",
        "    n_pilot = 500\n",
        "    u = cdf_delta[i] + (cdf_delta[i + 1] - cdf_delta[i]) * np.random.rand(n_pilot)\n",
        "    z = sp.stats.norm.ppf(u)\n",
        "    s1 = s0 * np.exp((r - q - sig*sig/2)*T + sig*np.sqrt(T)*z)\n",
        "    payoff = np.exp(-r*T)*np.maximum(K - s1, 0)\n",
        "    sig_i[i] = np.std(payoff, ddof=1)\n",
        "    \n",
        "# num of samples is proportional to p * sigma\n",
        "tmp = sig_i * p\n",
        "ni_opt = np.ceil(n_sims * tmp / np.sum(tmp)).astype(int)\n",
        "# we simulate at least 10 samples in each stratum\n",
        "ni_opt = np.maximum(ni_opt, 10)\n",
        "\n",
        "p_hat3 = 0.\n",
        "var_hat3 = 0.\n",
        "\n",
        "for i in range(m):\n",
        "    u = cdf_delta[i] + (cdf_delta[i + 1] - cdf_delta[i]) * np.random.rand(ni_opt[i])\n",
        "    print(ni_opt[i])\n",
        "    z = sp.stats.norm.ppf(u)\n",
        "    s1 = s0 * np.exp((r - q - sig*sig/2)*T + sig*np.sqrt(T)*z)\n",
        "    payoff = np.exp(-r*T)*np.maximum(K- s1, 0)\n",
        "    theta_i = np.mean(payoff)\n",
        "    var_i = np.var(payoff, ddof=1)\n",
        "    p_hat3 += theta_i * p[i]\n",
        "    var_hat3 += var_i * p[i] * p[i] / ni_opt[i]\n",
        "    std_err3 = np.sqrt(var_hat3)"
      ],
      "metadata": {
        "colab": {
          "base_uri": "https://localhost:8080/"
        },
        "outputId": "17f4a2be-f3a1-4540-f516-0de9367b2ea6",
        "id": "YULazEV0L2IO"
      },
      "execution_count": null,
      "outputs": [
        {
          "output_type": "stream",
          "name": "stdout",
          "text": [
            "20000\n",
            "10\n",
            "10\n"
          ]
        }
      ]
    },
    {
      "cell_type": "code",
      "source": [
        "print('Stratified sampling (optimal)')\n",
        "print('Exact solution = %3.4f' % put)\n",
        "print('Number of samples per stratum: ' + str(ni_opt))\n",
        "print('p_hat = %3.5f' % p_hat3)\n",
        "print('std error = %3.5f' % std_err3)"
      ],
      "metadata": {
        "colab": {
          "base_uri": "https://localhost:8080/"
        },
        "outputId": "9554035a-4c1f-455d-d1cd-e9238d5f0619",
        "id": "NFqRLM4ML2IO"
      },
      "execution_count": null,
      "outputs": [
        {
          "output_type": "stream",
          "name": "stdout",
          "text": [
            "Stratified sampling (optimal)\n",
            "Exact solution = 26.2173\n",
            "Number of samples per stratum: [20000    10    10]\n",
            "p_hat = 26.22553\n",
            "std error = 0.27261\n"
          ]
        }
      ]
    },
    {
      "cell_type": "code",
      "source": [
        "stra_d_p.append(p_hat3)\n",
        "stra_d_e.append(std_err3)"
      ],
      "metadata": {
        "id": "sSky606-QGC0"
      },
      "execution_count": null,
      "outputs": []
    },
    {
      "cell_type": "markdown",
      "source": [
        "### n = 50000, Stratum (d)"
      ],
      "metadata": {
        "id": "8XfzELMIL75R"
      }
    },
    {
      "cell_type": "code",
      "source": [
        "np.random.seed(147985234)\n",
        "n_sims = 50000"
      ],
      "metadata": {
        "id": "c9G-euFVL75R"
      },
      "execution_count": null,
      "outputs": []
    },
    {
      "cell_type": "code",
      "source": [
        "delta = np.array([-np.inf, 0, 1, np.inf])\n",
        "cdf_delta = sp.stats.norm.cdf(delta)\n",
        "p = np.diff(cdf_delta)\n",
        "m = len(p)"
      ],
      "metadata": {
        "id": "m1-Zt-ZuL75R"
      },
      "execution_count": null,
      "outputs": []
    },
    {
      "cell_type": "code",
      "source": [
        "# pilot program to find ni optimal\n",
        "sig_i = np.zeros(m)\n",
        "for i in range(m):\n",
        "    n_pilot = 500\n",
        "    u = cdf_delta[i] + (cdf_delta[i + 1] - cdf_delta[i]) * np.random.rand(n_pilot)\n",
        "    z = sp.stats.norm.ppf(u)\n",
        "    s1 = s0 * np.exp((r - q - sig*sig/2)*T + sig*np.sqrt(T)*z)\n",
        "    payoff = np.exp(-r*T)*np.maximum(K - s1, 0)\n",
        "    sig_i[i] = np.std(payoff, ddof=1)\n",
        "    \n",
        "# num of samples is proportional to p * sigma\n",
        "tmp = sig_i * p\n",
        "ni_opt = np.ceil(n_sims * tmp / np.sum(tmp)).astype(int)\n",
        "# we simulate at least 10 samples in each stratum\n",
        "ni_opt = np.maximum(ni_opt, 10)\n",
        "\n",
        "p_hat3 = 0.\n",
        "var_hat3 = 0.\n",
        "\n",
        "for i in range(m):\n",
        "    u = cdf_delta[i] + (cdf_delta[i + 1] - cdf_delta[i]) * np.random.rand(ni_opt[i])\n",
        "    print(ni_opt[i])\n",
        "    z = sp.stats.norm.ppf(u)\n",
        "    s1 = s0 * np.exp((r - q - sig*sig/2)*T + sig*np.sqrt(T)*z)\n",
        "    payoff = np.exp(-r*T)*np.maximum(K- s1, 0)\n",
        "    theta_i = np.mean(payoff)\n",
        "    var_i = np.var(payoff, ddof=1)\n",
        "    p_hat3 += theta_i * p[i]\n",
        "    var_hat3 += var_i * p[i] * p[i] / ni_opt[i]\n",
        "    std_err3 = np.sqrt(var_hat3)"
      ],
      "metadata": {
        "colab": {
          "base_uri": "https://localhost:8080/"
        },
        "outputId": "39027465-825f-4e60-840c-f0272b7ca8aa",
        "id": "hjdJwEqpL75R"
      },
      "execution_count": null,
      "outputs": [
        {
          "output_type": "stream",
          "name": "stdout",
          "text": [
            "50000\n",
            "10\n",
            "10\n"
          ]
        }
      ]
    },
    {
      "cell_type": "code",
      "source": [
        "print('Stratified sampling (optimal)')\n",
        "print('Exact solution = %3.4f' % put)\n",
        "print('Number of samples per stratum: ' + str(ni_opt))\n",
        "print('p_hat = %3.5f' % p_hat3)\n",
        "print('std error = %3.5f' % std_err3)"
      ],
      "metadata": {
        "colab": {
          "base_uri": "https://localhost:8080/"
        },
        "outputId": "e5ae9f5a-333d-49a3-a6cf-ce4cd4f77285",
        "id": "d17s2JQyL75R"
      },
      "execution_count": null,
      "outputs": [
        {
          "output_type": "stream",
          "name": "stdout",
          "text": [
            "Stratified sampling (optimal)\n",
            "Exact solution = 26.2173\n",
            "Number of samples per stratum: [50000    10    10]\n",
            "p_hat = 26.20231\n",
            "std error = 0.17330\n"
          ]
        }
      ]
    },
    {
      "cell_type": "code",
      "source": [
        "stra_d_p.append(p_hat3)\n",
        "stra_d_e.append(std_err3)"
      ],
      "metadata": {
        "id": "8cmDLpzOQITO"
      },
      "execution_count": null,
      "outputs": []
    },
    {
      "cell_type": "markdown",
      "source": [
        "### n = 100000, Stratum (d)"
      ],
      "metadata": {
        "id": "8w2HSeCtL8et"
      }
    },
    {
      "cell_type": "code",
      "source": [
        "np.random.seed(147985234)\n",
        "n_sims = 100000"
      ],
      "metadata": {
        "id": "5fFwqEhoL8et"
      },
      "execution_count": null,
      "outputs": []
    },
    {
      "cell_type": "code",
      "source": [
        "delta = np.array([-np.inf, 0, 1, np.inf])\n",
        "cdf_delta = sp.stats.norm.cdf(delta)\n",
        "p = np.diff(cdf_delta)\n",
        "m = len(p)"
      ],
      "metadata": {
        "id": "cyKqxQnRL8et"
      },
      "execution_count": null,
      "outputs": []
    },
    {
      "cell_type": "code",
      "source": [
        "# pilot program to find ni optimal\n",
        "sig_i = np.zeros(m)\n",
        "for i in range(m):\n",
        "    n_pilot = 500\n",
        "    u = cdf_delta[i] + (cdf_delta[i + 1] - cdf_delta[i]) * np.random.rand(n_pilot)\n",
        "    z = sp.stats.norm.ppf(u)\n",
        "    s1 = s0 * np.exp((r - q - sig*sig/2)*T + sig*np.sqrt(T)*z)\n",
        "    payoff = np.exp(-r*T)*np.maximum(K - s1, 0)\n",
        "    sig_i[i] = np.std(payoff, ddof=1)\n",
        "    \n",
        "# num of samples is proportional to p * sigma\n",
        "tmp = sig_i * p\n",
        "ni_opt = np.ceil(n_sims * tmp / np.sum(tmp)).astype(int)\n",
        "# we simulate at least 10 samples in each stratum\n",
        "ni_opt = np.maximum(ni_opt, 10)\n",
        "\n",
        "p_hat3 = 0.\n",
        "var_hat3 = 0.\n",
        "\n",
        "for i in range(m):\n",
        "    u = cdf_delta[i] + (cdf_delta[i + 1] - cdf_delta[i]) * np.random.rand(ni_opt[i])\n",
        "    print(ni_opt[i])\n",
        "    z = sp.stats.norm.ppf(u)\n",
        "    s1 = s0 * np.exp((r - q - sig*sig/2)*T + sig*np.sqrt(T)*z)\n",
        "    payoff = np.exp(-r*T)*np.maximum(K- s1, 0)\n",
        "    theta_i = np.mean(payoff)\n",
        "    var_i = np.var(payoff, ddof=1)\n",
        "    p_hat3 += theta_i * p[i]\n",
        "    var_hat3 += var_i * p[i] * p[i] / ni_opt[i]\n",
        "    std_err3 = np.sqrt(var_hat3)"
      ],
      "metadata": {
        "colab": {
          "base_uri": "https://localhost:8080/"
        },
        "outputId": "db32c40f-f198-45a2-9e0a-80bd5c15838b",
        "id": "AtEZjyhDL8et"
      },
      "execution_count": null,
      "outputs": [
        {
          "output_type": "stream",
          "name": "stdout",
          "text": [
            "100000\n",
            "10\n",
            "10\n"
          ]
        }
      ]
    },
    {
      "cell_type": "code",
      "source": [
        "print('Stratified sampling (optimal)')\n",
        "print('Exact solution = %3.4f' % put)\n",
        "print('Number of samples per stratum: ' + str(ni_opt))\n",
        "print('p_hat = %3.5f' % p_hat3)\n",
        "print('std error = %3.5f' % std_err3)"
      ],
      "metadata": {
        "colab": {
          "base_uri": "https://localhost:8080/"
        },
        "outputId": "53b00ac4-7338-4798-eb5c-8d80d708dbfe",
        "id": "_1DVy_X-L8et"
      },
      "execution_count": null,
      "outputs": [
        {
          "output_type": "stream",
          "name": "stdout",
          "text": [
            "Stratified sampling (optimal)\n",
            "Exact solution = 26.2173\n",
            "Number of samples per stratum: [100000     10     10]\n",
            "p_hat = 26.18936\n",
            "std error = 0.12231\n"
          ]
        }
      ]
    },
    {
      "cell_type": "code",
      "source": [
        "stra_d_p.append(p_hat3)\n",
        "stra_d_e.append(std_err3)"
      ],
      "metadata": {
        "id": "joQ6jGgeQJbB"
      },
      "execution_count": null,
      "outputs": []
    },
    {
      "cell_type": "markdown",
      "source": [
        "## Conclusion"
      ],
      "metadata": {
        "id": "cMJlGAoSQLIi"
      }
    },
    {
      "cell_type": "code",
      "source": [
        "x = [20000, 50000, 100000]\n",
        "default_x_ticks = range(len(x))\n",
        "plt.axhline(y=put, color='r', linestyle='-')\n",
        "plt.plot(default_x_ticks, stra_a_p, color = 'b', label=\"pred val (a)\")\n",
        "plt.plot(default_x_ticks, stra_b_p, color = 'c', label=\"pred val (b)\")\n",
        "plt.plot(default_x_ticks, stra_c_p, color = 'm', label=\"pred val (c)\")\n",
        "plt.plot(default_x_ticks, stra_d_p, color = 'y', label=\"pred val (d)\")\n",
        "plt.xticks(default_x_ticks, x)\n",
        "ax = plt.gca()\n",
        "ax.set_ylim([put-0.25, put+0.25])\n",
        "plt.legend(loc=\"upper right\")\n",
        "plt.show()"
      ],
      "metadata": {
        "colab": {
          "base_uri": "https://localhost:8080/",
          "height": 265
        },
        "id": "-i4_AOJGQN33",
        "outputId": "ce8fbd7b-39bb-44d0-e09c-6ca8b4983402"
      },
      "execution_count": null,
      "outputs": [
        {
          "output_type": "display_data",
          "data": {
            "text/plain": [
              "<Figure size 432x288 with 1 Axes>"
            ],
            "image/png": "[encoded data removed]"
          },
          "metadata": {
            "needs_background": "light"
          }
        }
      ]
    },
    {
      "cell_type": "code",
      "source": [
        "stra_a_e"
      ],
      "metadata": {
        "colab": {
          "base_uri": "https://localhost:8080/"
        },
        "id": "upAcZ4rlTLnu",
        "outputId": "da776ec4-3a69-4371-927c-6cc6b2b7b69b"
      },
      "execution_count": null,
      "outputs": [
        {
          "output_type": "execute_result",
          "data": {
            "text/plain": [
              "[0.27324211247585467, 0.1734109755643523, 0.12233176203322957]"
            ]
          },
          "metadata": {},
          "execution_count": 66
        }
      ]
    },
    {
      "cell_type": "code",
      "source": [
        "stra_d_e"
      ],
      "metadata": {
        "colab": {
          "base_uri": "https://localhost:8080/"
        },
        "id": "ueKUdV5iTdxf",
        "outputId": "f2b859f9-ac31-4a4e-dbc4-d2487c8437cd"
      },
      "execution_count": null,
      "outputs": [
        {
          "output_type": "execute_result",
          "data": {
            "text/plain": [
              "[0.27260852497753224, 0.17329803435966049, 0.12230993178671042]"
            ]
          },
          "metadata": {},
          "execution_count": 68
        }
      ]
    },
    {
      "cell_type": "code",
      "source": [
        "plt.plot(default_x_ticks, stra_a_e, color = 'b', label=\"error (a)\")\n",
        "plt.plot(default_x_ticks, stra_b_e, color = 'c', label=\"error (b)\")\n",
        "plt.plot(default_x_ticks, stra_c_e, color = 'm', label=\"error (c)\")\n",
        "plt.plot(default_x_ticks, stra_d_e, color = 'y', label=\"error (d)\")\n",
        "plt.xticks(default_x_ticks, x)\n",
        "plt.legend(loc=\"upper right\")\n",
        "plt.show()"
      ],
      "metadata": {
        "colab": {
          "base_uri": "https://localhost:8080/",
          "height": 269
        },
        "id": "nlnvgYFxS5Je",
        "outputId": "7ab2b403-cf21-4f90-f242-fec346e30b17"
      },
      "execution_count": null,
      "outputs": [
        {
          "output_type": "display_data",
          "data": {
            "text/plain": [
              "<Figure size 432x288 with 1 Axes>"
            ],
            "image/png": "[encoded data removed]"
          },
          "metadata": {
            "needs_background": "light"
          }
        }
      ]
    },
    {
      "cell_type": "markdown",
      "source": [
        "From the plot, we can certainly conclude that the choice of stratum will influence the accuracy of the simulation. So it is important to test before deciding which Stratum to use.\n",
        "\n",
        "with certain results (Stratum b) performed inferior in both bias and variance.\n",
        "\n",
        "Notice that Stratum a and Stratum d had an extremely close error since their optimized n* are the same.\n",
        "\n",
        "Also noticed that greater number of simulation will decrease the variance.\n",
        "\n",
        "Given the four stratum above, Stratum d seems a reasonable choice to use."
      ],
      "metadata": {
        "id": "ROKYzuMXqYkh"
      }
    }
  ]
}