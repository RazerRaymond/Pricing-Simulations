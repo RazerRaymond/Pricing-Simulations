{
  "nbformat": 4,
  "nbformat_minor": 0,
  "metadata": {
    "colab": {
      "provenance": [],
      "authorship_tag": "ABX9TyNdtN9YnH8/CE+CWQjDTuBF",
      "include_colab_link": true
    },
    "kernelspec": {
      "name": "python3",
      "display_name": "Python 3"
    },
    "language_info": {
      "name": "python"
    }
  },
  "cells": [
    {
      "cell_type": "markdown",
      "metadata": {
        "id": "view-in-github",
        "colab_type": "text"
      },
      "source": [
        "<a href=\"https://colab.research.google.com/github/RazerRaymond/Pricing-Simulations/blob/main/MonteCarlo_SQCall.ipynb\" target=\"_parent\"><img src=\"https://colab.research.google.com/assets/colab-badge.svg\" alt=\"Open In Colab\"/></a>"
      ]
    },
    {
      "cell_type": "code",
      "source": [
        "import numpy as np"
      ],
      "metadata": {
        "id": "Ki8nMzHcN2pJ"
      },
      "execution_count": null,
      "outputs": []
    },
    {
      "cell_type": "code",
      "source": [
        "#general data for later functions\n",
        "S0 = np.linspace(95, 105, 11)  # initial stock price\n",
        "K = 100  # strike price\n",
        "r = 0.02  # risk-free interest rate\n",
        "sigma = 0.15  # volatility of stock price\n",
        "T = 1  # expiration date"
      ],
      "metadata": {
        "id": "3yf6M7_ETgn9",
        "colab": {
          "base_uri": "https://localhost:8080/"
        },
        "outputId": "0fd0e6f3-63a2-4105-db42-60e71ebd893f"
      },
      "execution_count": null,
      "outputs": [
        {
          "output_type": "stream",
          "name": "stdout",
          "text": [
            "[ 95.  96.  97.  98.  99. 100. 101. 102. 103. 104. 105.]\n"
          ]
        }
      ]
    },
    {
      "cell_type": "code",
      "source": [
        "def geometric_brownian_motion(S0, mu, sigma, T, num_timesteps):\n",
        "    # Generate geometric brownian motion step\n",
        "    dt = T / num_timesteps\n",
        "    S = np.zeros(num_timesteps + 1)\n",
        "    S[0] = S0\n",
        "    for t in range(num_timesteps):\n",
        "        S[t + 1] = S[t] * np.exp((mu - (sigma**2) / 2) * dt + sigma * np.sqrt(dt) * np.random.normal())\n",
        "    return S[-1]\n",
        "\n",
        "def monte_carlo(S0, K, r, sigma, T, num_timesteps, num_simulations, ):\n",
        "    simulated_res = np.zeros(num_simulations)\n",
        "    res = np.zeros(num_simulations)\n",
        "    # Generate simulated path / calculate option payoff\n",
        "    for i in range(num_simulations):\n",
        "        simulated_res[i] = geometric_brownian_motion(S0, r , sigma, T, num_timesteps) # r instead of mu\n",
        "        res[i] = (max((simulated_res[i] - K), 0) ** 2)* np.exp(-r * T)\n",
        "    return res.mean()\n",
        "\n",
        "num_timesteps = 100  # number of time steps in the simulation\n",
        "num_simulations = 1000  # number of Monte Carlo simulations\n",
        "\n",
        "for i in S0:\n",
        "  call_value = monte_carlo(i, K, r, sigma, T, num_timesteps, num_simulations)\n",
        "  print(f\"The value of the call option with S0={i} is {call_value:.2f}\")"
      ],
      "metadata": {
        "colab": {
          "base_uri": "https://localhost:8080/"
        },
        "id": "RAE5p_AdLvhK",
        "outputId": "9ae33462-e47e-4f51-8956-a71190736b60"
      },
      "execution_count": null,
      "outputs": [
        {
          "output_type": "stream",
          "name": "stdout",
          "text": [
            "The value of the call option with S0=95.0 is 79.19\n",
            "The value of the call option with S0=96.0 is 106.87\n",
            "The value of the call option with S0=97.0 is 109.87\n",
            "The value of the call option with S0=98.0 is 120.00\n",
            "The value of the call option with S0=99.0 is 145.35\n",
            "The value of the call option with S0=100.0 is 155.77\n",
            "The value of the call option with S0=101.0 is 163.10\n",
            "The value of the call option with S0=102.0 is 181.24\n",
            "The value of the call option with S0=103.0 is 218.44\n",
            "The value of the call option with S0=104.0 is 229.13\n",
            "The value of the call option with S0=105.0 is 283.25\n"
          ]
        }
      ]
    }
  ]
}