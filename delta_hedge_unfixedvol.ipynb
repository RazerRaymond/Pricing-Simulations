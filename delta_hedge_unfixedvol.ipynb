{
  "nbformat": 4,
  "nbformat_minor": 0,
  "metadata": {
    "colab": {
      "provenance": [],
      "authorship_tag": "ABX9TyNI5ngOx5DYz14ORCF+PJoN",
      "include_colab_link": true
    },
    "kernelspec": {
      "name": "python3",
      "display_name": "Python 3"
    },
    "language_info": {
      "name": "python"
    }
  },
  "cells": [
    {
      "cell_type": "markdown",
      "metadata": {
        "id": "view-in-github",
        "colab_type": "text"
      },
      "source": [
        "<a href=\"https://colab.research.google.com/github/RazerRaymond/Pricing-Simulations/blob/main/delta_hedge_unfixedvol.ipynb\" target=\"_parent\"><img src=\"https://colab.research.google.com/assets/colab-badge.svg\" alt=\"Open In Colab\"/></a>"
      ]
    },
    {
      "cell_type": "markdown",
      "source": [
        "Cost of delta hedging in BMS Model with non-constant volatility (Call)"
      ],
      "metadata": {
        "id": "Q061149F5BLb"
      }
    },
    {
      "cell_type": "code",
      "execution_count": null,
      "metadata": {
        "id": "u_8ZuSwPOhMH"
      },
      "outputs": [],
      "source": [
        "import numpy as np\n",
        "from scipy.stats import norm\n",
        "def BMS_d1(S, K, r, q, sigma, tau):\n",
        "    ''' Computes d1 for the Black Merton Scholes formula '''\n",
        "    d1 = 1.0*(np.log(1.0 * S/K) + (r - q + sigma**2/2) * tau) / (sigma * \n",
        "np.sqrt(tau))\n",
        "    return d1\n",
        "def BMS_d2(S, K, r, q, sigma, tau):\n",
        "    ''' Computes d2 for the Black Merton Scholes formula '''\n",
        "    d2 = 1.0*(np.log(1.0 * S/K) + (r - q - sigma**2/2) * tau) / (sigma * \n",
        "np.sqrt(tau))\n",
        "    return d2\n",
        "def BMS_price(type_option, S, K, r, q, sigma, T, t=0):\n",
        "    ''' Computes the Black Merton Scholes price for a 'call' or 'put' option '''\n",
        "    tau = T - t\n",
        "    d1 = BMS_d1(S, K, r, q, sigma, tau)\n",
        "    d2 = BMS_d2(S, K, r, q, sigma, tau)\n",
        "    if type_option == 'call':\n",
        "        price = S * np.exp(-q * tau) * norm.cdf(d1) - K * np.exp(-r * tau) * norm.cdf(d2)\n",
        "    elif type_option == 'put':\n",
        "        price = K * np.exp(-r * tau) * norm.cdf(-d2) - S * np.exp(-q * tau) * norm.cdf(-d1) \n",
        "    return price\n",
        "def BMS_delta(type_option, S, K, r, q, sigma, T, t=0):\n",
        "    ''' Computes the delta for a call or a put. '''\n",
        "    tau = T - t\n",
        "    d1 = BMS_d1(S, K, r, q, sigma, tau)\n",
        "    if type_option == 'call':\n",
        "        delta = np.exp(-q * tau) * norm.cdf(d1)\n",
        "    elif type_option == 'put':\n",
        "        delta = np.exp(-q * tau) * (norm.cdf(d1) - 1)\n",
        "    return delta"
      ]
    },
    {
      "cell_type": "code",
      "source": [
        "import numpy as np\n",
        "import matplotlib.pyplot as plt\n",
        "from time import time\n",
        "\n",
        "# problem data\n",
        "spot = 100\n",
        "K = 110\n",
        "r = 0\n",
        "q = 0\n",
        "sig = 0.22\n",
        "\n",
        "maturity = 1\n",
        "\n",
        "m = 365\n",
        "dt = maturity/m\n",
        "\n",
        "# ir and divr\n",
        "r_d = r / m\n",
        "q_d = q / m\n"
      ],
      "metadata": {
        "id": "h_YF0A64OjIF"
      },
      "execution_count": null,
      "outputs": []
    },
    {
      "cell_type": "code",
      "source": [
        "n_sim = 100\n",
        "np.random.seed(46542150)\n",
        "synthetic_C = np.zeros(n_sim)\n",
        "\n",
        "st = time()\n",
        "\n",
        "for j in range(n_sim):\n",
        "    \n",
        "    # reset for each path\n",
        "    S = spot\n",
        "    T = maturity\n",
        "    delta_C_prev = 0.0\n",
        "    sig_i = sig\n",
        "\n",
        "    for i in range(m):\n",
        "        sig_i = sig - 0.001 * (S - spot)\n",
        "        delta_C = BMS_delta('call', S, K, r, q, sig, T)\n",
        "        # Take derivative to calculate new delta cr: yuyang xu\n",
        "        delta_C -= 0.001 * S * norm.pdf(BMS_d1(S, K, r, q, sig_i, T)) * np.sqrt(T)\n",
        "        synthetic_C[j] += (delta_C - delta_C_prev)*S\n",
        "        # Note - net position is always delta_c\n",
        "    \n",
        "        delta_C_prev = delta_C\n",
        "        \n",
        "        z = np.random.randn()\n",
        "        S = S * np.exp((r - q - sig_i*sig_i/2)*dt + sig_i*np.sqrt(dt)*z)\n",
        "        \n",
        "        T = T - dt\n",
        "    \n",
        "    synthetic_C[j] += (-delta_C*S + np.maximum(S-K,0))\n",
        "\n",
        "et = time()\n",
        "print('Elapsed time is %s seconds.' % str(et - st))"
      ],
      "metadata": {
        "colab": {
          "base_uri": "https://localhost:8080/"
        },
        "id": "ZYiKVUPPOl7v",
        "outputId": "1f6da935-df17-4446-abde-37e7c216573d"
      },
      "execution_count": null,
      "outputs": [
        {
          "output_type": "stream",
          "name": "stdout",
          "text": [
            "Elapsed time is 9.75707221031189 seconds.\n"
          ]
        }
      ]
    },
    {
      "cell_type": "code",
      "source": [
        "print('mean_synthetic_C with active volatility = ' + str(np.mean(synthetic_C)))\n",
        "print('std_synthetic_C with active volatility = ' + str(np.std(synthetic_C, ddof=1)))"
      ],
      "metadata": {
        "colab": {
          "base_uri": "https://localhost:8080/"
        },
        "id": "JF1Vsu7gOvDu",
        "outputId": "54f38046-6c09-42de-d9ac-3c80a6c4e1a8"
      },
      "execution_count": null,
      "outputs": [
        {
          "output_type": "stream",
          "name": "stdout",
          "text": [
            "mean_synthetic_C with active volatility = 4.912587127941605\n",
            "std_synthetic_C with active volatility = 0.5650661421289541\n"
          ]
        }
      ]
    }
  ]
}