{
  "nbformat": 4,
  "nbformat_minor": 0,
  "metadata": {
    "colab": {
      "provenance": [],
      "authorship_tag": "ABX9TyMtzMQYr8YAtEIv2rbZ7Teg",
      "include_colab_link": true
    },
    "kernelspec": {
      "name": "python3",
      "display_name": "Python 3"
    },
    "language_info": {
      "name": "python"
    }
  },
  "cells": [
    {
      "cell_type": "markdown",
      "metadata": {
        "id": "view-in-github",
        "colab_type": "text"
      },
      "source": [
        "<a href=\"https://colab.research.google.com/github/RazerRaymond/Pricing-Simulations/blob/main/CMC_as_var_reduction.ipynb\" target=\"_parent\"><img src=\"https://colab.research.google.com/assets/colab-badge.svg\" alt=\"Open In Colab\"/></a>"
      ]
    },
    {
      "cell_type": "code",
      "execution_count": null,
      "metadata": {
        "id": "oxCInFzZGyN0"
      },
      "outputs": [],
      "source": [
        "import numpy as np\n",
        "import matplotlib.pyplot as plt\n",
        "from scipy.stats import norm  \n",
        "import math\n",
        "import scipy.stats as st"
      ]
    },
    {
      "cell_type": "markdown",
      "source": [
        "Estimated θ = P (Y − X < 1.5)\n",
        "where X ∼ Exp(3.0) and Y ∼ Exp(2.0). For X ∼ Exp(λ)"
      ],
      "metadata": {
        "id": "4kMM19KG_5xW"
      }
    },
    {
      "cell_type": "code",
      "source": [
        "# CI data\n",
        "alpha = 0.01\n",
        "z = st.norm.ppf(1-alpha/2)"
      ],
      "metadata": {
        "id": "-dD5_MYJK5Bt"
      },
      "execution_count": null,
      "outputs": []
    },
    {
      "cell_type": "code",
      "source": [
        "# we use uniform distribution to sample from two exponential distribution\n",
        "n_sim = 20000\n",
        "\n",
        "\n",
        "ss = np.zeros(n_sim)\n",
        "cmc = np.zeros(n_sim)"
      ],
      "metadata": {
        "id": "S0koT173IChD"
      },
      "execution_count": null,
      "outputs": []
    },
    {
      "cell_type": "code",
      "source": [
        "# Standard Simulation\n",
        "for i in range(n_sim):\n",
        "    u1 = np.random.uniform()\n",
        "    u2 = np.random.uniform()\n",
        "    x = -1/3 * np.log(u1)\n",
        "    y = -1/2 * np.log(u2)\n",
        "    if y - x < 1.5:\n",
        "      ss[i] = 1"
      ],
      "metadata": {
        "id": "B7oiRdX0LCGv"
      },
      "execution_count": null,
      "outputs": []
    },
    {
      "cell_type": "code",
      "source": [
        "theta_bar = np.mean(ss)\n",
        "sigma_bar = np.std(ss, ddof = 1)\n",
        "CI_l = theta_bar - (z * sigma_bar / np.sqrt(n_sim))\n",
        "CI_h = theta_bar + (z * sigma_bar / np.sqrt(n_sim))\n",
        "print(f\"Estimated theta using Standard Simulation: {theta_bar}\")\n",
        "print(f\"Estimated standard deviation for theta using Standard Simulation: {sigma_bar}\")\n",
        "print(f\"99 percent CI for Standard Simulation: [{CI_l}, {CI_h}]\")"
      ],
      "metadata": {
        "colab": {
          "base_uri": "https://localhost:8080/"
        },
        "id": "uhGUYM_cMyv7",
        "outputId": "bdd5d78f-fb06-4757-80df-296120ea58f5"
      },
      "execution_count": null,
      "outputs": [
        {
          "output_type": "stream",
          "name": "stdout",
          "text": [
            "Estimated theta using Standard Simulation: 0.9714\n",
            "Estimated standard deviation for theta using Standard Simulation: 0.166683619985464\n",
            "99 percent CI for Standard Simulation: [0.9683640472683652, 0.9744359527316349]\n"
          ]
        }
      ]
    },
    {
      "cell_type": "code",
      "source": [
        "# Conditional Monte Carlo\n",
        "for i in range(n_sim):\n",
        "    u = np.random.uniform()\n",
        "    x = -1/3 * np.log(u)\n",
        "    cmc[i] = 1 - np.exp(-2 * x - 3)"
      ],
      "metadata": {
        "id": "4luh0yg9LD3b"
      },
      "execution_count": null,
      "outputs": []
    },
    {
      "cell_type": "markdown",
      "source": [
        "We tryna estimate P(Y-X < 1.5) = P(Y < X + 1.5) \n",
        "\n",
        "where we can simulate X and then we can calculate the probability directly using the cdf of an exponential distribution\n",
        "\n",
        "Since P(Y < X + 1.5)  = E( E(I(Y < X + 1.5) | X) )\n"
      ],
      "metadata": {
        "id": "Dxk8YR8-otoW"
      }
    },
    {
      "cell_type": "code",
      "source": [
        "theta_bar = np.mean(cmc)\n",
        "sigma_bar = np.std(cmc, ddof = 1)\n",
        "CI_l = theta_bar - (z * sigma_bar / np.sqrt(n_sim))\n",
        "CI_h = theta_bar + (z * sigma_bar / np.sqrt(n_sim))\n",
        "print(f\"Estimated theta using Monte Carlo Simulation: {theta_bar}\")\n",
        "print(f\"Estimated standard deviation for theta using Monte Carlo Simulation: {sigma_bar}\")\n",
        "print(f\"99 percent CI for Standard Simulation: [{CI_l}, {CI_h}]\")"
      ],
      "metadata": {
        "colab": {
          "base_uri": "https://localhost:8080/"
        },
        "id": "hLk7VuM4Mz2O",
        "outputId": "f3b82546-8636-41ff-e67c-ea66412b90bb"
      },
      "execution_count": null,
      "outputs": [
        {
          "output_type": "stream",
          "name": "stdout",
          "text": [
            "Estimated theta using Monte Carlo Simulation: 0.9701033911199706\n",
            "Estimated standard deviation for theta using Monte Carlo Simulation: 0.013109749317191886\n",
            "99 percent CI for Standard Simulation: [0.9698646119330652, 0.970342170306876]\n"
          ]
        }
      ]
    }
  ]
}