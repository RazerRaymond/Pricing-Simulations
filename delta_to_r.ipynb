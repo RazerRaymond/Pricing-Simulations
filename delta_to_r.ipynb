{
  "nbformat": 4,
  "nbformat_minor": 0,
  "metadata": {
    "colab": {
      "provenance": [],
      "authorship_tag": "ABX9TyNA8jNNMKFJorWEDXfM+SvA",
      "include_colab_link": true
    },
    "kernelspec": {
      "name": "python3",
      "display_name": "Python 3"
    },
    "language_info": {
      "name": "python"
    }
  },
  "cells": [
    {
      "cell_type": "markdown",
      "metadata": {
        "id": "view-in-github",
        "colab_type": "text"
      },
      "source": [
        "<a href=\"https://colab.research.google.com/github/RazerRaymond/Pricing-Simulations/blob/main/delta_to_r.ipynb\" target=\"_parent\"><img src=\"https://colab.research.google.com/assets/colab-badge.svg\" alt=\"Open In Colab\"/></a>"
      ]
    },
    {
      "cell_type": "code",
      "execution_count": 9,
      "metadata": {
        "id": "VPCLGbFuWBSi"
      },
      "outputs": [],
      "source": [
        "from scipy.optimize import minimize\n",
        "from scipy.stats import norm\n",
        "import math\n",
        "\n",
        "def bsm_delta(S, K, r, sigma, T):\n",
        "    d1 = (math.log(S / K) + (r + (sigma ** 2) / 2) * T) / (sigma * math.sqrt(T))\n",
        "    return norm.cdf(d1)\n",
        "\n",
        "def objective_function(r_guess, delta_observed, S, K, sigma, T):\n",
        "    delta_calculated = bsm_delta(S, K, r_guess, sigma, T)\n",
        "    return abs(delta_observed - delta_calculated)\n",
        "\n",
        "def calculate_risk_free_rate(delta_observed, S, K, sigma, T, r_guess=0.02):\n",
        "    result = minimize(\n",
        "        objective_function,\n",
        "        args=(delta_observed, S, K, sigma, T),\n",
        "        x0=r_guess,\n",
        "        bounds=[(0, None)],\n",
        "        tol=1e-6\n",
        "    )\n",
        "    risk_free_rate = result.x[0]\n",
        "    return risk_free_rate"
      ]
    },
    {
      "cell_type": "code",
      "source": [
        "import numpy as np\n",
        "from scipy.stats import norm\n",
        "def BMS_d1(S, K, r, q, sigma, tau):\n",
        "    ''' Computes d1 for the Black Merton Scholes formula '''\n",
        "    d1 = 1.0*(np.log(1.0 * S/K) + (r - q + sigma**2/2) * tau) / (sigma * \n",
        "np.sqrt(tau))\n",
        "    return d1\n",
        "def BMS_d2(S, K, r, q, sigma, tau):\n",
        "    ''' Computes d2 for the Black Merton Scholes formula '''\n",
        "    d2 = 1.0*(np.log(1.0 * S/K) + (r - q - sigma**2/2) * tau) / (sigma * \n",
        "np.sqrt(tau))\n",
        "    return d2\n",
        "def BMS_price(type_option, S, K, r, q, sigma, T, t=0):\n",
        "    ''' Computes the Black Merton Scholes price for a 'call' or 'put' option '''\n",
        "    tau = T - t\n",
        "    d1 = BMS_d1(S, K, r, q, sigma, tau)\n",
        "    d2 = BMS_d2(S, K, r, q, sigma, tau)\n",
        "    if type_option == 'call':\n",
        "        price = S * np.exp(-q * tau) * norm.cdf(d1) - K * np.exp(-r * tau) * norm.cdf(d2)\n",
        "    elif type_option == 'put':\n",
        "        price = K * np.exp(-r * tau) * norm.cdf(-d2) - S * np.exp(-q * tau) * norm.cdf(-d1) \n",
        "    return price\n",
        "def BMS_delta(type_option, S, K, r, q, sigma, T, t=0):\n",
        "    ''' Computes the delta for a call or a put. '''\n",
        "    tau = T - t\n",
        "    d1 = BMS_d1(S, K, r, q, sigma, tau)\n",
        "    if type_option == 'call':\n",
        "        delta = np.exp(-q * tau) * norm.cdf(d1)\n",
        "    elif type_option == 'put':\n",
        "        delta = np.exp(-q * tau) * (norm.cdf(d1) - 1)\n",
        "    return delta"
      ],
      "metadata": {
        "id": "uABzbLqLWhGf"
      },
      "execution_count": 2,
      "outputs": []
    },
    {
      "cell_type": "code",
      "source": [
        "# problem data\n",
        "spot = 100\n",
        "K = 110\n",
        "r = 0.05\n",
        "q = 0\n",
        "sig = 0.22\n",
        "\n",
        "maturity = 1 # in-years\n",
        "C = BMS_price('call', spot, K, r, q, sig, maturity)\n",
        "print('C = ' + str(C))\n",
        "delta = BMS_delta('call', spot, K, r, q, sig, maturity)\n",
        "print('del = ' + str(delta))"
      ],
      "metadata": {
        "colab": {
          "base_uri": "https://localhost:8080/"
        },
        "id": "LBKx6b_VW62v",
        "outputId": "8b22c634-3d7e-442d-d022-137ac6d33eeb"
      },
      "execution_count": 7,
      "outputs": [
        {
          "output_type": "stream",
          "name": "stdout",
          "text": [
            "C = 6.8330484199715045\n",
            "del = 0.4617780121382925\n"
          ]
        }
      ]
    },
    {
      "cell_type": "code",
      "source": [
        "risk_free_rate = calculate_risk_free_rate(delta, spot, K, sig, maturity)\n",
        "print(\"Risk-Free Rate: {}\".format(risk_free_rate))"
      ],
      "metadata": {
        "colab": {
          "base_uri": "https://localhost:8080/"
        },
        "id": "x8_QIMQZXTVF",
        "outputId": "fe2ea3fe-3257-43e8-e291-a811a8e2d7c0"
      },
      "execution_count": 11,
      "outputs": [
        {
          "output_type": "stream",
          "name": "stdout",
          "text": [
            "Risk-Free Rate: 0.049999995470113384\n"
          ]
        }
      ]
    }
  ]
}