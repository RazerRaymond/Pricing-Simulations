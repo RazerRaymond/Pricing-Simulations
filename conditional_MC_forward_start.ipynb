{
  "nbformat": 4,
  "nbformat_minor": 0,
  "metadata": {
    "colab": {
      "provenance": [],
      "authorship_tag": "ABX9TyOTG0MBNnhKeCfwkZrKuCtq",
      "include_colab_link": true
    },
    "kernelspec": {
      "name": "python3",
      "display_name": "Python 3"
    },
    "language_info": {
      "name": "python"
    }
  },
  "cells": [
    {
      "cell_type": "markdown",
      "metadata": {
        "id": "view-in-github",
        "colab_type": "text"
      },
      "source": [
        "<a href=\"https://colab.research.google.com/github/RazerRaymond/Pricing-Simulations/blob/main/conditional_MC_forward_start.ipynb\" target=\"_parent\"><img src=\"https://colab.research.google.com/assets/colab-badge.svg\" alt=\"Open In Colab\"/></a>"
      ]
    },
    {
      "cell_type": "code",
      "execution_count": null,
      "metadata": {
        "id": "KykP3r7IJ0L3"
      },
      "outputs": [],
      "source": [
        "import numpy as np\n",
        "import matplotlib.pyplot as plt\n",
        "from scipy.stats import norm\n",
        "import math\n",
        "import scipy.stats as st"
      ]
    },
    {
      "cell_type": "markdown",
      "source": [
        "Conditional Monte Carlo for a forward start option"
      ],
      "metadata": {
        "id": "K6U768hELgsa"
      }
    },
    {
      "cell_type": "code",
      "source": [
        "# Data for Stock\n",
        "S0 = 120  # spot price\n",
        "r = 0.025  # risk-free interest rate\n",
        "q = 0.0175 # div rate\n",
        "sigma = 0.35  # volatility of stock price\n",
        "T = 1.0  # maturity date\n",
        "\n",
        "mu = r - q"
      ],
      "metadata": {
        "id": "EadH7kEBLfb-"
      },
      "execution_count": null,
      "outputs": []
    },
    {
      "cell_type": "code",
      "source": [
        "# Option data\n",
        "H1 = 100.0\n",
        "H2 = 150.0\n",
        "lamb1 = 0.9\n",
        "lamb2 = 1.1\n",
        "rebate = 10.0"
      ],
      "metadata": {
        "id": "3UgcS1tRS5fX"
      },
      "execution_count": null,
      "outputs": []
    },
    {
      "cell_type": "code",
      "source": [
        "# CI data\n",
        "alpha = 0.01\n",
        "z = st.norm.ppf(1-alpha/2)"
      ],
      "metadata": {
        "id": "X4hQ8gdaXQQb"
      },
      "execution_count": null,
      "outputs": []
    },
    {
      "cell_type": "code",
      "source": [
        "def BMS_d1(S, K, r, q, sigma, tau):\n",
        "    ''' Computes d1 for the Black Merton Scholes formula '''\n",
        "    d1 = 1.0*(np.log(1.0 * S/K) + (r - q + sigma**2/2) * tau) / (sigma * \n",
        "np.sqrt(tau))\n",
        "    return d1\n",
        "def BMS_d2(S, K, r, q, sigma, tau):\n",
        "    ''' Computes d2 for the Black Merton Scholes formula '''\n",
        "    d2 = 1.0*(np.log(1.0 * S/K) + (r - q - sigma**2/2) * tau) / (sigma * \n",
        "np.sqrt(tau))\n",
        "    return d2\n",
        "def BMS_price(type_option, S, K, r, q, sigma, T, t=0):\n",
        "    ''' Computes the Black Merton Scholes price for a 'call' or 'put' option '''\n",
        "    tau = T - t\n",
        "    d1 = BMS_d1(S, K, r, q, sigma, tau)\n",
        "    d2 = BMS_d2(S, K, r, q, sigma, tau)\n",
        "    if type_option == 'call':\n",
        "        price = S * np.exp(-q * tau) * norm.cdf(d1) - K * np.exp(-r * tau) * norm.cdf(d2)\n",
        "    elif type_option == 'put':\n",
        "        price = K * np.exp(-r * tau) * norm.cdf(-d2) - S * np.exp(-q * tau) * norm.cdf(-d1) \n",
        "    return price"
      ],
      "metadata": {
        "id": "mdj0g64A2D61"
      },
      "execution_count": null,
      "outputs": []
    },
    {
      "cell_type": "code",
      "source": [
        "def gbm(S0, mu, sigma, dt):\n",
        "     return S0 * np.exp((mu - (sigma**2) / 2) * dt + sigma * np.sqrt(dt) * np.random.normal())\n",
        "\n",
        "def h_opt(S0, H1, H2, lamb1, lamb2, rebate):\n",
        "    ST4 = gbm(S0, mu, sigma, T/4)\n",
        "    if ST4 < H1:\n",
        "      K = lamb1 * ST4\n",
        "      ST = gbm(ST4, mu, sigma, T - T/4)\n",
        "      return np.maximum(0, (K - ST)) * np.exp(-r * T)\n",
        "    elif ST4 > H2:\n",
        "      K = lamb2 * ST4\n",
        "      ST = gbm(ST4, mu, sigma, T - T/4)\n",
        "      return np.maximum(0, (ST - K)) * np.exp(-r * T)\n",
        "    else:\n",
        "      return rebate * np.exp(-r * T/4)\n",
        "\n",
        "def h_opt_cmc(S0, H1, H2, lamb1, lamb2, rebate):\n",
        "    ST4 = gbm(S0, mu, sigma, T/4)\n",
        "    if ST4 < H1:\n",
        "      K = lamb1 * ST4\n",
        "      return BMS_price('put', ST4, K, r, q, sigma, T, T/4) * np.exp(-r * T/4)\n",
        "    elif ST4 > H2:\n",
        "      K = lamb2 * ST4\n",
        "      return BMS_price('call', ST4, K, r, q, sigma, T, T/4) * np.exp(-r * T/4)\n",
        "    else:\n",
        "      return rebate * np.exp(-r * T/4)"
      ],
      "metadata": {
        "id": "cSqj5svWNc5c"
      },
      "execution_count": null,
      "outputs": []
    },
    {
      "cell_type": "code",
      "source": [
        "# Standard Simulation\n",
        "simulation_count = 50000\n",
        "standard_MC = np.zeros(simulation_count)\n",
        "CMC = np.zeros(simulation_count)\n",
        "for i in range(simulation_count):\n",
        "  standard_MC[i] = h_opt(S0, H1, H2, lamb1, lamb2, rebate)\n",
        "  CMC[i] = h_opt_cmc(S0, H1, H2, lamb1, lamb2, rebate)"
      ],
      "metadata": {
        "id": "vLWMq8tETRSU"
      },
      "execution_count": null,
      "outputs": []
    },
    {
      "cell_type": "code",
      "source": [
        "theta_bar = np.mean(standard_MC)\n",
        "sigma_bar = np.std(standard_MC, ddof = 1)\n",
        "CI_l = theta_bar - (z * sigma_bar / np.sqrt(simulation_count))\n",
        "CI_h = theta_bar + (z * sigma_bar / np.sqrt(simulation_count))\n",
        "print(f\"Estimated Option price for h using Standard Simulation: {theta_bar}\")\n",
        "print(f\"Estimated Option standard deviation for h using Standard Simulation: {sigma_bar}\")\n",
        "print(f\"99 percent CI for Standard Simulation: [{CI_l}, {CI_h}]\")"
      ],
      "metadata": {
        "colab": {
          "base_uri": "https://localhost:8080/"
        },
        "id": "FP-MAa1xarN8",
        "outputId": "8e9ea3d1-b3fd-40b6-a5e6-7293f22973ed"
      },
      "execution_count": null,
      "outputs": [
        {
          "output_type": "stream",
          "name": "stdout",
          "text": [
            "Estimated Option price for h using Standard Simulation: 9.617281323729964\n",
            "Estimated Option standard deviation for h using Standard Simulation: 9.492469005887893\n",
            "99 percent CI for Standard Simulation: [9.507933217704426, 9.726629429755501]\n"
          ]
        }
      ]
    },
    {
      "cell_type": "code",
      "source": [
        "theta_bar = np.mean(CMC)\n",
        "sigma_bar = np.std(CMC, ddof = 1)\n",
        "CI_l = theta_bar - (z * sigma_bar / np.sqrt(simulation_count))\n",
        "CI_h = theta_bar + (z * sigma_bar / np.sqrt(simulation_count))\n",
        "print(f\"Estimated Option price for h using Conditional Monte Carlo Simulation: {theta_bar}\")\n",
        "print(f\"Estimated Option standard deviation for h using Monte Carlo Simulation: {sigma_bar}\")\n",
        "print(f\"99 percent CI for Standard Simulation: [{CI_l}, {CI_h}]\")"
      ],
      "metadata": {
        "colab": {
          "base_uri": "https://localhost:8080/"
        },
        "id": "ooqeVuIOziUL",
        "outputId": "34c8f523-dba2-4c69-9996-0ef8579f2618"
      },
      "execution_count": null,
      "outputs": [
        {
          "output_type": "stream",
          "name": "stdout",
          "text": [
            "Estimated Option price for h using Conditional Monte Carlo Simulation: 9.627756843914323\n",
            "Estimated Option standard deviation for h using Monte Carlo Simulation: 1.8757428754398984\n",
            "99 percent CI for Standard Simulation: [9.606149301061876, 9.64936438676677]\n"
          ]
        }
      ]
    },
    {
      "cell_type": "markdown",
      "source": [
        "As we can tell, using the Conditional Monte Carlo trick, our standard deviation is much smaller, resulting a smaller Confidence Interval."
      ],
      "metadata": {
        "id": "3Vj-QLVfkJgG"
      }
    }
  ]
}