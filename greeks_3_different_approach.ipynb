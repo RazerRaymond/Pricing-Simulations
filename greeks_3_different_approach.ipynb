{
  "nbformat": 4,
  "nbformat_minor": 0,
  "metadata": {
    "colab": {
      "provenance": [],
      "authorship_tag": "ABX9TyN9Qp1opA6Ry2/faUt3sZDM",
      "include_colab_link": true
    },
    "kernelspec": {
      "name": "python3",
      "display_name": "Python 3"
    },
    "language_info": {
      "name": "python"
    }
  },
  "cells": [
    {
      "cell_type": "markdown",
      "metadata": {
        "id": "view-in-github",
        "colab_type": "text"
      },
      "source": [
        "<a href=\"https://colab.research.google.com/github/RazerRaymond/Pricing-Simulations/blob/main/greeks_3_different_approach.ipynb\" target=\"_parent\"><img src=\"https://colab.research.google.com/assets/colab-badge.svg\" alt=\"Open In Colab\"/></a>"
      ]
    },
    {
      "cell_type": "code",
      "source": [
        "import numpy as np\n",
        "import matplotlib.pyplot as plt\n",
        "from scipy.stats import norm\n",
        "import math\n",
        "import scipy.stats as st  "
      ],
      "metadata": {
        "id": "b_F4ojX_xiu8"
      },
      "execution_count": null,
      "outputs": []
    },
    {
      "cell_type": "code",
      "execution_count": null,
      "metadata": {
        "id": "JhaBEomivTYb"
      },
      "outputs": [],
      "source": [
        "# Data for Stock\n",
        "S0 = 100  # spot price\n",
        "r = 0.05  # risk-free interest rate\n",
        "q = 0 # div rate\n",
        "sig = 0.38  # volatility of stock price\n",
        "T = 0.5  # maturity date\n",
        "\n",
        "delS = 0.1\n",
        "delSig = 0.01\n",
        "\n",
        "nN = 250000"
      ]
    },
    {
      "cell_type": "code",
      "source": [
        "# Option data\n",
        "t1 = 1/6.0\n",
        "lamb = 1.1"
      ],
      "metadata": {
        "id": "1ao4vQIBxE8b"
      },
      "execution_count": null,
      "outputs": []
    },
    {
      "cell_type": "markdown",
      "source": [
        "### CRN"
      ],
      "metadata": {
        "id": "071XGj9ITHO0"
      }
    },
    {
      "cell_type": "code",
      "source": [
        "np.random.seed(43452456)\n",
        "z = np.random.randn(nN)\n",
        "z1 = np.random.randn(nN)"
      ],
      "metadata": {
        "id": "rcHYhN4F1QOD"
      },
      "execution_count": null,
      "outputs": []
    },
    {
      "cell_type": "code",
      "source": [
        "# update_k1 is a multiplier that transform S0 to St1\n",
        "update_t1 = np.exp(((r-q) - (sig**2) / 2) * t1 + sig * np.sqrt(t1) * z) \n",
        "K = lamb * S0 * update_t1 # Strike price array\n",
        "St1 = S0 * update_t1 # St1 array"
      ],
      "metadata": {
        "id": "ScAxrxoj0swM"
      },
      "execution_count": null,
      "outputs": []
    },
    {
      "cell_type": "code",
      "source": [
        "tmp1U = (S0 + delS)*update_t1*np.exp((r-q-sig**2/2)*(T-t1))\n",
        "tmp1 = St1 * np.exp((r-q-sig**2/2)*(T-t1))\n",
        "tmp1D = (S0 - delS)*update_t1*np.exp((r-q-sig**2/2)*(T-t1))\n",
        "\n",
        "tmp2 = sig*np.sqrt((T-t1))\n",
        "\n",
        "\n",
        "s = tmp1*np.exp(tmp2*z1)\n",
        "tmp = np.exp(-r*T)*np.maximum(s-K,0)\n",
        "\n",
        "s = tmp1U*np.exp(tmp2*z1)\n",
        "tmpU = np.exp(-r*T)*np.maximum(s-K,0)\n",
        "\n",
        "s = tmp1D*np.exp(tmp2*z1)\n",
        "tmpD = np.exp(-r*T)*np.maximum(s-K,0)\n",
        "\n",
        "delC_CRN1 = np.mean((tmpU - tmpD))/(2*delS)\n",
        "\n",
        "gam_CRN  = np.mean((tmpU - 2*tmp + tmpD))/(delS**2)"
      ],
      "metadata": {
        "id": "CoU3QiR-DgZ4"
      },
      "execution_count": null,
      "outputs": []
    },
    {
      "cell_type": "code",
      "source": [
        "ump = np.exp(((r-q) - ((sig + delSig)**2) / 2) * t1 + (sig + delSig) * np.sqrt(t1) * z)\n",
        "dmp = np.exp(((r-q) - ((sig - delSig)**2) / 2) * t1 + (sig - delSig) * np.sqrt(t1) * z)\n",
        "\n",
        "KU = S0 * ump * lamb\n",
        "KD = S0 * dmp * lamb\n",
        "St1u = S0 * ump\n",
        "St1d = S0 * dmp"
      ],
      "metadata": {
        "id": "JrXEgycc0y5X"
      },
      "execution_count": null,
      "outputs": []
    },
    {
      "cell_type": "code",
      "source": [
        "tmp1U  =  St1u * np.exp((r - q - (sig + delSig)**2/2)*(T-t1))\n",
        "tmp1D  =  St1d * np.exp((r - q - (sig - delSig)**2/2)*(T-t1))\n",
        "\n",
        "tmp2U = (sig + delSig) * np.sqrt((T-t1))\n",
        "tmp2D = (sig - delSig) * np.sqrt((T-t1))\n",
        "\n",
        "\n",
        "s = tmp1U * np.exp(tmp2U*z1)\n",
        "tmpU = np.exp(-r*T) * np.maximum(s-KU,0)\n",
        "\n",
        "s = tmp1D * np.exp(tmp2D*z1)\n",
        "tmpD = np.exp(-r*T) * np.maximum(s-KD,0)\n",
        "\n",
        "vega_CRN = np.mean((tmpU - tmpD)/(2*delSig))"
      ],
      "metadata": {
        "id": "85kIQf1-Edmq"
      },
      "execution_count": null,
      "outputs": []
    },
    {
      "cell_type": "markdown",
      "source": [
        "### Pathwise"
      ],
      "metadata": {
        "id": "K_pfpII8TKLG"
      }
    },
    {
      "cell_type": "code",
      "source": [
        "z = np.random.randn(nN)\n",
        "z1 = np.random.randn(nN)"
      ],
      "metadata": {
        "id": "H1yDx6B5eDbO"
      },
      "execution_count": null,
      "outputs": []
    },
    {
      "cell_type": "code",
      "source": [
        "update_t1 = np.exp(((r-q) - (sig**2) / 2) * t1 + sig * np.sqrt(t1) * z)\n",
        "K = lamb * S0 * update_t1\n",
        "St1 = S0 * update_t1\n",
        "s = St1 * np.exp(((r-q) - (sig**2) / 2) * (T-t1) + sig * np.sqrt((T-t1)) * z1)\n",
        "\n",
        "der1 = np.exp((r - q - sig**2/2)*t1) * np.exp(sig*np.sqrt(t1)*z)\n",
        "der2 = np.exp((r - q - sig**2/2)*(T-t1)) * np.exp(sig*np.sqrt((T-t1))*z1)\n",
        "der3 =  np.exp(-r * T) * (s>K)\n",
        "\n",
        "dhds0 = der1*der2*der3\n",
        "delC_pathwise = np.mean(dhds0)\n",
        "gam_pathwise = np.nan"
      ],
      "metadata": {
        "id": "R0E4pTsrTMhW"
      },
      "execution_count": null,
      "outputs": []
    },
    {
      "cell_type": "code",
      "source": [
        "dhdsig = np.exp(-r*T) * (s>K) * (s/sig) * (np.log(s/S0) - (r - q+sig**2/2)*T)\n",
        "vega_pathwise = np.mean(dhdsig)"
      ],
      "metadata": {
        "id": "4vrEAu892Oml"
      },
      "execution_count": null,
      "outputs": []
    },
    {
      "cell_type": "markdown",
      "source": [
        "### Likelihood"
      ],
      "metadata": {
        "id": "id2IhYSXYgZI"
      }
    },
    {
      "cell_type": "code",
      "source": [
        "z = np.random.randn(nN)\n",
        "z1 = np.random.randn(nN)"
      ],
      "metadata": {
        "id": "xqTg6w93aDqH"
      },
      "execution_count": null,
      "outputs": []
    },
    {
      "cell_type": "code",
      "source": [
        "update_t1 = np.exp(((r-q) - (sig**2) / 2) * t1 + sig * np.sqrt(t1) * z)\n",
        "K = lamb * S0 * update_t1\n",
        "St1 = S0 * update_t1\n",
        "s = St1 * np.exp(((r-q) - (sig**2) / 2) * (T-t1) + sig * np.sqrt((T-t1)) * z1)"
      ],
      "metadata": {
        "id": "Oz1YSQOTaMrj"
      },
      "execution_count": null,
      "outputs": []
    },
    {
      "cell_type": "code",
      "source": [
        "scoreH_delta = np.exp(-r*T)*np.maximum(s - K,0)*z1/(S0*sig*np.sqrt(T-t1))\n",
        "delC_likelihood = np.mean(scoreH_delta)\n",
        "\n",
        "scoreH_gamma = (z1**2 - 1)/(S0**2*sig**2*(T-t1)) - z1/(S0**2*sig*np.sqrt(T-t1))\n",
        "scoreH_gamma *= np.exp(-r*T)*np.maximum(s - K,0)\n",
        "gam_likelihood = np.mean(scoreH_gamma)"
      ],
      "metadata": {
        "id": "duzXk2xuYnJj"
      },
      "execution_count": null,
      "outputs": []
    },
    {
      "cell_type": "code",
      "source": [
        "scoreH = np.exp(-r*T)*np.maximum(s - K,0)*((z1**2-1)/sig - z1*np.sqrt(T-t1))\n",
        "vega_likelihood = np.mean(scoreH)"
      ],
      "metadata": {
        "id": "EmmBlYj8YfCW"
      },
      "execution_count": null,
      "outputs": []
    },
    {
      "cell_type": "code",
      "source": [
        "print('==================')\n",
        "print('\\tDelta')\n",
        "print('==================')\n",
        "print('W/ CRN: %f' % delC_CRN1)\n",
        "print('Pathwise estimator: %f' % delC_pathwise)\n",
        "print('Likelihood estimator: %f' % delC_likelihood)\n",
        "print('==================')\n",
        "print('\\tGamma')\n",
        "print('==================')\n",
        "print('W/ CRN: %f' % gam_CRN)\n",
        "print('Pathwise estimator: %f' % gam_pathwise)\n",
        "print('Likelihood estimator: %f' % gam_likelihood)\n",
        "print('==================')\n",
        "print('\\tVega')\n",
        "print('==================')\n",
        "print('W/ CRN: %f' % vega_CRN)\n",
        "print('Pathwise estimator: %f' % vega_pathwise)\n",
        "print('Likelihood estimator: %f' % vega_likelihood)"
      ],
      "metadata": {
        "colab": {
          "base_uri": "https://localhost:8080/"
        },
        "id": "b-y8HKDuEjlF",
        "outputId": "9f89aea0-0efa-4631-b011-855e3296ee1e"
      },
      "execution_count": null,
      "outputs": [
        {
          "output_type": "stream",
          "name": "stdout",
          "text": [
            "==================\n",
            "\tDelta\n",
            "==================\n",
            "W/ CRN: 0.401898\n",
            "Pathwise estimator: 0.404425\n",
            "Likelihood estimator: 0.404279\n",
            "==================\n",
            "\tGamma\n",
            "==================\n",
            "W/ CRN: 0.017204\n",
            "Pathwise estimator: nan\n",
            "Likelihood estimator: 0.017736\n",
            "==================\n",
            "\tVega\n",
            "==================\n",
            "W/ CRN: 22.287628\n",
            "Pathwise estimator: 22.525262\n",
            "Likelihood estimator: 22.466003\n"
          ]
        }
      ]
    }
  ]
}